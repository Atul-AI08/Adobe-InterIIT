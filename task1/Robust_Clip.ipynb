{
 "cells": [
  {
   "cell_type": "markdown",
   "id": "5e6b3e6a",
   "metadata": {},
   "source": [
    "This notebook is the fine tunning of the Robust CLIP based on the \"https://github.com/chs20/RobustVLM\""
   ]
  },
  {
   "cell_type": "code",
   "execution_count": null,
   "id": "146c90fa-f849-422d-b1b9-32ec17d6b703",
   "metadata": {},
   "outputs": [],
   "source": [
    "%pip install open-clip-torch"
   ]
  },
  {
   "cell_type": "code",
   "execution_count": null,
   "id": "4910d0ad-48d1-4845-9ff1-765274dd5c1e",
   "metadata": {},
   "outputs": [],
   "source": [
    "import os\n",
    "from tqdm import tqdm\n",
    "from PIL import Image\n",
    "from sklearn.metrics import accuracy_score, f1_score, confusion_matrix\n",
    "\n",
    "import torch\n",
    "from torch.utils.data import Dataset, DataLoader, random_split\n",
    "from torchvision import transforms\n",
    "from open_clip import create_model_and_transforms"
   ]
  },
  {
   "cell_type": "code",
   "execution_count": null,
   "id": "8eb122b7-d610-40c5-89e5-9771fbeaeec7",
   "metadata": {},
   "outputs": [],
   "source": [
    "model, _, image_processor = create_model_and_transforms('hf-hub:chs20/fare2-clip')"
   ]
  },
  {
   "cell_type": "code",
   "execution_count": null,
   "id": "a7d3f478-a239-421d-a56a-a9d8e155bda7",
   "metadata": {},
   "outputs": [],
   "source": [
    "device = torch.device(\"cuda\" if torch.cuda.is_available() else \"cpu\")\n",
    "print(device)"
   ]
  },
  {
   "cell_type": "code",
   "execution_count": null,
   "id": "b2897ac8-f115-4dd8-ac6e-d36b426ee50a",
   "metadata": {},
   "outputs": [],
   "source": [
    "data_transform = transforms.Compose(\n",
    "    [\n",
    "        transforms.Resize((224, 224)),\n",
    "        transforms.ToTensor(),\n",
    "        transforms.Normalize(mean=[0.485, 0.456, 0.406], std=[0.229, 0.224, 0.225]),\n",
    "    ]\n",
    ")"
   ]
  },
  {
   "cell_type": "code",
   "execution_count": null,
   "id": "407a088d-0554-4e40-a373-b8241ef4070d",
   "metadata": {},
   "outputs": [],
   "source": [
    "class CustomDataset(Dataset):\n",
    "    def __init__(self, root_dir, transform=None):\n",
    "        self.root_dir = root_dir\n",
    "        self.transform = transform\n",
    "        self.data = []\n",
    "\n",
    "        # Traverse REAL and FAKE folders\n",
    "        for label, folder in enumerate([\"REAL\", \"FAKE\"]):\n",
    "            folder_path = os.path.join(root_dir, folder)\n",
    "            for img_file in os.listdir(folder_path):\n",
    "                img_path = os.path.join(folder_path, img_file)\n",
    "                if img_file.lower().endswith((\"jpg\", \"jpeg\", \"png\")):\n",
    "                    self.data.append((img_path, label))\n",
    "\n",
    "    def __len__(self):\n",
    "        return len(self.data)\n",
    "\n",
    "    def __getitem__(self, idx):\n",
    "        img_path, label = self.data[idx]\n",
    "        image = Image.open(img_path).convert(\"RGB\")\n",
    "        if self.transform:\n",
    "            image = self.transform(image)\n",
    "        return image, label\n"
   ]
  },
  {
   "cell_type": "code",
   "execution_count": null,
   "id": "e851a871-b608-4103-bf2e-73798257d711",
   "metadata": {},
   "outputs": [],
   "source": [
    "root_dir = \"/workspace/content/CIFAKE_final/train\"\n",
    "dataset = CustomDataset(root_dir=root_dir, transform=data_transform)\n",
    "\n",
    "train_size = int(0.8 * len(dataset))\n",
    "test_size = len(dataset) - train_size\n",
    "train_dataset, test_dataset = random_split(dataset, [train_size, test_size])\n",
    "\n",
    "# Create Data Loaders for training and testing\n",
    "train_loader = DataLoader(train_dataset, batch_size=32, shuffle=True)\n",
    "test_loader = DataLoader(test_dataset, batch_size=32, shuffle=False)"
   ]
  },
  {
   "cell_type": "code",
   "execution_count": null,
   "id": "16c91266-f3f6-4d6c-a820-eba7fb9e831a",
   "metadata": {},
   "outputs": [],
   "source": [
    "# Binary Classifier Model using CLIP image embeddings\n",
    "class BinaryClassifier(torch.nn.Module):\n",
    "    def __init__(self, base_model):\n",
    "        super(BinaryClassifier, self).__init__()\n",
    "        self.base_model = base_model\n",
    "        self.dense_layers = torch.nn.Sequential(\n",
    "            torch.nn.Linear(768, 512),\n",
    "            torch.nn.GELU(),\n",
    "            torch.nn.Dropout(0.5),\n",
    "            torch.nn.Linear(512, 1),\n",
    "            torch.nn.Sigmoid(),\n",
    "        )\n",
    "\n",
    "    def forward(self, images):\n",
    "        with torch.no_grad():\n",
    "            image_features = self.base_model.encode_image(images).float()\n",
    "\n",
    "        output = self.dense_layers(image_features)\n",
    "        return output\n"
   ]
  },
  {
   "cell_type": "code",
   "execution_count": null,
   "id": "dc55b7bb-35ab-4ea4-b3b5-5cdfdbe8b912",
   "metadata": {},
   "outputs": [],
   "source": [
    "combined_model = BinaryClassifier(model).to(device)\n",
    "\n",
    "criterion = torch.nn.BCEWithLogitsLoss()\n",
    "optimizer = torch.optim.Adam(combined_model.parameters(), lr=1e-4)\n"
   ]
  },
  {
   "cell_type": "code",
   "execution_count": null,
   "id": "b5a95da5-c3c1-4201-9c3f-05d19eb1bbc8",
   "metadata": {},
   "outputs": [],
   "source": [
    "# Training Loop\n",
    "\n",
    "epochs = 3\n",
    "\n",
    "for epoch in range(epochs):\n",
    "    combined_model.train()\n",
    "    train_loss = 0.0\n",
    "    train_bar = tqdm(train_loader, desc=f\"Epoch {epoch+1}/{epochs}\", leave=False)\n",
    "\n",
    "    for images, labels in train_bar:\n",
    "        images, labels = images.to(device), labels.float().to(device).unsqueeze(1)\n",
    "\n",
    "        # Forward pass\n",
    "        optimizer.zero_grad()\n",
    "        outputs = combined_model(images)\n",
    "        loss = criterion(outputs, labels)\n",
    "        loss.backward()\n",
    "        optimizer.step()\n",
    "\n",
    "        train_loss += loss.item()\n",
    "        train_bar.set_postfix(loss=loss.item())\n",
    "\n",
    "    print(f\"Epoch {epoch+1}/{epochs}, Loss: {train_loss / len(train_loader)}\")\n"
   ]
  },
  {
   "cell_type": "code",
   "execution_count": null,
   "id": "f4e8d396-6f41-49a5-bce9-472f981275ae",
   "metadata": {},
   "outputs": [],
   "source": [
    "# Evaluation Loop (Testing)\n",
    "\n",
    "combined_model.eval()\n",
    "y_true, y_pred = [], []\n",
    "\n",
    "with torch.no_grad():\n",
    "    test_bar = tqdm(test_loader, desc=\"Testing\", leave=False)\n",
    "    for images, labels in test_bar:\n",
    "        images = images.to(device)\n",
    "        labels = labels.cpu().numpy()\n",
    "\n",
    "        outputs = combined_model(images).cpu().numpy()\n",
    "        predictions = (outputs > 0.5).astype(int)\n",
    "\n",
    "        y_true.extend(labels)\n",
    "        y_pred.extend(predictions)\n",
    "\n",
    "# Metrics\n",
    "accuracy = accuracy_score(y_true, y_pred)\n",
    "f1 = f1_score(y_true, y_pred)\n",
    "conf_matrix = confusion_matrix(y_true, y_pred)\n",
    "\n",
    "print(f\"Accuracy: {accuracy:.4f}\")\n",
    "print(f\"F1 Score: {f1:.4f}\")\n",
    "print(f\"Confusion Matrix:\\n{conf_matrix}\")"
   ]
  }
 ],
 "metadata": {
  "kernelspec": {
   "display_name": "Python 3 (ipykernel)",
   "language": "python",
   "name": "python3"
  },
  "language_info": {
   "codemirror_mode": {
    "name": "ipython",
    "version": 3
   },
   "file_extension": ".py",
   "mimetype": "text/x-python",
   "name": "python",
   "nbconvert_exporter": "python",
   "pygments_lexer": "ipython3",
   "version": "3.11.10"
  }
 },
 "nbformat": 4,
 "nbformat_minor": 5
}
