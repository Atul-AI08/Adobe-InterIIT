{
 "cells": [
  {
   "cell_type": "code",
   "execution_count": null,
   "metadata": {
    "execution": {
     "iopub.execute_input": "2024-04-06T08:14:34.948444Z",
     "iopub.status.busy": "2024-04-06T08:14:34.948150Z",
     "iopub.status.idle": "2024-04-06T08:14:48.651449Z",
     "shell.execute_reply": "2024-04-06T08:14:48.650593Z",
     "shell.execute_reply.started": "2024-04-06T08:14:34.948410Z"
    },
    "trusted": true
   },
   "outputs": [],
   "source": [
    "import gc\n",
    "import numpy as np\n",
    "import pandas as pd\n",
    "from pathlib import Path\n",
    "import itertools\n",
    "import matplotlib.pyplot as plt\n",
    "from sklearn.metrics import (\n",
    "    accuracy_score,\n",
    "    confusion_matrix,\n",
    "    classification_report,\n",
    "    f1_score,\n",
    ")\n",
    "\n",
    "from imblearn.over_sampling import RandomOverSampler\n",
    "import evaluate\n",
    "from datasets import ClassLabel, Dataset\n",
    "\n",
    "from transformers import (\n",
    "    TrainingArguments,\n",
    "    Trainer,\n",
    "    ViTImageProcessor,\n",
    "    ViTForImageClassification,\n",
    ")\n",
    "import torch\n",
    "from torchvision.transforms import (\n",
    "    Compose,\n",
    "    Normalize,\n",
    "    RandomRotation,\n",
    "    RandomAdjustSharpness,\n",
    "    Resize,\n",
    "    ToTensor,\n",
    ")\n",
    "\n",
    "from PIL import ImageFile, Image\n",
    "import warnings\n",
    "\n",
    "warnings.filterwarnings(\"ignore\")\n",
    "ImageFile.LOAD_TRUNCATED_IMAGES = True"
   ]
  },
  {
   "cell_type": "code",
   "execution_count": null,
   "metadata": {
    "execution": {
     "iopub.execute_input": "2024-04-06T08:14:48.661319Z",
     "iopub.status.busy": "2024-04-06T08:14:48.661017Z",
     "iopub.status.idle": "2024-04-06T08:14:59.185403Z",
     "shell.execute_reply": "2024-04-06T08:14:59.184505Z",
     "shell.execute_reply.started": "2024-04-06T08:14:48.661294Z"
    },
    "trusted": true
   },
   "outputs": [
    {
     "name": "stdout",
     "output_type": "stream",
     "text": [
      "120000 120000\n",
      "(120000, 2)\n"
     ]
    }
   ],
   "source": [
    "image_dict = {}\n",
    "\n",
    "# Define the list of file names\n",
    "file_names = []\n",
    "labels = []\n",
    "\n",
    "for file in sorted(\n",
    "    (Path(\"cifake-real-and-ai-generated-synthetic-images/\").glob(\"*/*/*.*\"))\n",
    "):\n",
    "    label = str(file).split(\"/\")[-2]\n",
    "    labels.append(label)\n",
    "    file_names.append(str(file))\n",
    "print(len(file_names), len(labels))\n",
    "\n",
    "df = pd.DataFrame.from_dict({\"image\": file_names, \"label\": labels})\n",
    "print(df.shape)"
   ]
  },
  {
   "cell_type": "code",
   "execution_count": null,
   "metadata": {
    "execution": {
     "iopub.execute_input": "2024-04-06T08:14:59.446910Z",
     "iopub.status.busy": "2024-04-06T08:14:59.446526Z",
     "iopub.status.idle": "2024-04-06T08:15:00.421366Z",
     "shell.execute_reply": "2024-04-06T08:15:00.420374Z",
     "shell.execute_reply.started": "2024-04-06T08:14:59.446873Z"
    },
    "trusted": true
   },
   "outputs": [
    {
     "name": "stdout",
     "output_type": "stream",
     "text": [
      "(120000, 2)\n"
     ]
    }
   ],
   "source": [
    "y = df[[\"label\"]]\n",
    "df = df.drop([\"label\"], axis=1)\n",
    "ros = RandomOverSampler(random_state=83)\n",
    "df, y_resampled = ros.fit_resample(df, y)\n",
    "df[\"label\"] = y_resampled\n",
    "gc.collect()\n",
    "\n",
    "print(df.shape)"
   ]
  },
  {
   "cell_type": "code",
   "execution_count": null,
   "metadata": {
    "execution": {
     "iopub.execute_input": "2024-04-06T08:15:00.575156Z",
     "iopub.status.busy": "2024-04-06T08:15:00.574818Z",
     "iopub.status.idle": "2024-04-06T08:15:00.585457Z",
     "shell.execute_reply": "2024-04-06T08:15:00.584502Z",
     "shell.execute_reply.started": "2024-04-06T08:15:00.575123Z"
    },
    "trusted": true
   },
   "outputs": [
    {
     "name": "stdout",
     "output_type": "stream",
     "text": [
      "Mapping of IDs to Labels: {0: 'REAL', 1: 'FAKE'} \n",
      "\n",
      "Mapping of Labels to IDs: {'REAL': 0, 'FAKE': 1}\n"
     ]
    }
   ],
   "source": [
    "# Create a list of unique labels by converting 'labels' to a set and then back to a list\n",
    "labels_list = ['REAL', 'FAKE']\n",
    "\n",
    "# Initialize empty dictionaries to map labels to IDs and vice versa\n",
    "label2id, id2label = dict(), dict()\n",
    "\n",
    "# Iterate over the unique labels and assign each label an ID, and vice versa\n",
    "for i, label in enumerate(labels_list):\n",
    "    label2id[label] = i\n",
    "    id2label[i] = label\n",
    "\n",
    "# Print the resulting dictionaries for reference\n",
    "print(\"Mapping of IDs to Labels:\", id2label, '\\n')\n",
    "print(\"Mapping of Labels to IDs:\", label2id)"
   ]
  },
  {
   "cell_type": "code",
   "execution_count": null,
   "metadata": {
    "execution": {
     "iopub.execute_input": "2024-04-06T08:15:00.587239Z",
     "iopub.status.busy": "2024-04-06T08:15:00.586904Z",
     "iopub.status.idle": "2024-04-06T08:15:01.149437Z",
     "shell.execute_reply": "2024-04-06T08:15:01.148460Z",
     "shell.execute_reply.started": "2024-04-06T08:15:00.587209Z"
    },
    "trusted": true
   },
   "outputs": [],
   "source": [
    "# Creating classlabels to match labels to IDs\n",
    "ClassLabels = ClassLabel(num_classes=len(labels_list), names=labels_list)\n",
    "\n",
    "# Mapping labels to IDs\n",
    "def map_label2id(example):\n",
    "    example['label'] = ClassLabels.str2int(example['label'])\n",
    "    return example\n",
    "\n",
    "dataset = Dataset.from_pandas(df).cast_column(\"image\", Image())\n",
    "dataset = dataset.map(map_label2id, batched=True)\n",
    "\n",
    "# Casting label column to ClassLabel Object\n",
    "dataset = dataset.cast_column('label', ClassLabels)\n",
    "\n",
    "# Splitting the dataset into training and testing sets using an 60-40 split ratio.\n",
    "dataset = dataset.train_test_split(test_size=0.4, shuffle=True, stratify_by_column=\"label\")\n",
    "\n",
    "train_data = dataset['train']\n",
    "test_data = dataset['test']"
   ]
  },
  {
   "cell_type": "code",
   "execution_count": null,
   "metadata": {
    "execution": {
     "iopub.execute_input": "2024-04-06T08:15:01.151329Z",
     "iopub.status.busy": "2024-04-06T08:15:01.151025Z",
     "iopub.status.idle": "2024-04-06T08:15:01.423216Z",
     "shell.execute_reply": "2024-04-06T08:15:01.422327Z",
     "shell.execute_reply.started": "2024-04-06T08:15:01.151303Z"
    },
    "trusted": true
   },
   "outputs": [],
   "source": [
    "model_str = \"google/vit-base-patch16-224-in21k\"\n",
    "\n",
    "processor = ViTImageProcessor.from_pretrained(model_str)\n",
    "\n",
    "image_mean, image_std = processor.image_mean, processor.image_std\n",
    "size = processor.size[\"height\"]\n",
    "print(\"Size: \", size)\n",
    "\n",
    "normalize = Normalize(mean=image_mean, std=image_std)\n",
    "\n",
    "_train_transforms = Compose(\n",
    "    [\n",
    "        Resize((size, size)),\n",
    "        RandomRotation(90),\n",
    "        RandomAdjustSharpness(2),\n",
    "        ToTensor(),\n",
    "        normalize,\n",
    "    ]\n",
    ")\n",
    "\n",
    "_val_transforms = Compose(\n",
    "    [\n",
    "        Resize((size, size)),\n",
    "        ToTensor(),\n",
    "        normalize,\n",
    "    ]\n",
    ")\n",
    "\n",
    "\n",
    "# Function to apply training transformations to a batch of examples\n",
    "def train_transforms(examples):\n",
    "    examples[\"pixel_values\"] = [\n",
    "        _train_transforms(image.convert(\"RGB\")) for image in examples[\"image\"]\n",
    "    ]\n",
    "    return examples\n",
    "\n",
    "\n",
    "# Function to apply validation transformations to a batch of examples\n",
    "def val_transforms(examples):\n",
    "    examples[\"pixel_values\"] = [\n",
    "        _val_transforms(image.convert(\"RGB\")) for image in examples[\"image\"]\n",
    "    ]\n",
    "    return examples"
   ]
  },
  {
   "cell_type": "code",
   "execution_count": null,
   "metadata": {
    "execution": {
     "iopub.execute_input": "2024-04-06T08:15:01.424685Z",
     "iopub.status.busy": "2024-04-06T08:15:01.424387Z",
     "iopub.status.idle": "2024-04-06T08:15:01.437094Z",
     "shell.execute_reply": "2024-04-06T08:15:01.436150Z",
     "shell.execute_reply.started": "2024-04-06T08:15:01.424659Z"
    },
    "trusted": true
   },
   "outputs": [],
   "source": [
    "train_data.set_transform(train_transforms)\n",
    "test_data.set_transform(val_transforms)"
   ]
  },
  {
   "cell_type": "code",
   "execution_count": null,
   "metadata": {
    "execution": {
     "iopub.execute_input": "2024-04-06T08:15:01.438799Z",
     "iopub.status.busy": "2024-04-06T08:15:01.438442Z",
     "iopub.status.idle": "2024-04-06T08:15:01.454125Z",
     "shell.execute_reply": "2024-04-06T08:15:01.453188Z",
     "shell.execute_reply.started": "2024-04-06T08:15:01.438768Z"
    },
    "trusted": true
   },
   "outputs": [],
   "source": [
    "# Collate function that prepares batched data for model training.\n",
    "def collate_fn(examples):\n",
    "    pixel_values = torch.stack([example[\"pixel_values\"] for example in examples])\n",
    "    labels = torch.tensor([example[\"label\"] for example in examples])\n",
    "\n",
    "    return {\"pixel_values\": pixel_values, \"labels\": labels}"
   ]
  },
  {
   "cell_type": "code",
   "execution_count": null,
   "metadata": {
    "execution": {
     "iopub.execute_input": "2024-04-06T08:15:01.455705Z",
     "iopub.status.busy": "2024-04-06T08:15:01.455349Z",
     "iopub.status.idle": "2024-04-06T08:15:03.361383Z",
     "shell.execute_reply": "2024-04-06T08:15:03.360380Z",
     "shell.execute_reply.started": "2024-04-06T08:15:01.455673Z"
    },
    "trusted": true
   },
   "outputs": [],
   "source": [
    "# Create a ViTForImageClassification model from a pretrained checkpoint with a specified number of output labels.\n",
    "model = ViTForImageClassification.from_pretrained(model_str, num_labels=len(labels_list))\n",
    "\n",
    "# Configure the mapping of class labels to their corresponding indices for later reference.\n",
    "model.config.id2label = id2label\n",
    "model.config.label2id = label2id\n",
    "\n",
    "# Calculate and print the number of trainable parameters in millions for the model.\n",
    "print(model.num_parameters(only_trainable=True) / 1e6)"
   ]
  },
  {
   "cell_type": "code",
   "execution_count": null,
   "metadata": {
    "execution": {
     "iopub.execute_input": "2024-04-06T08:15:03.362864Z",
     "iopub.status.busy": "2024-04-06T08:15:03.362534Z",
     "iopub.status.idle": "2024-04-06T08:15:04.087338Z",
     "shell.execute_reply": "2024-04-06T08:15:04.086495Z",
     "shell.execute_reply.started": "2024-04-06T08:15:03.362838Z"
    },
    "trusted": true
   },
   "outputs": [],
   "source": [
    "accuracy = evaluate.load(\"accuracy\")\n",
    "\n",
    "\n",
    "def compute_metrics(eval_pred):\n",
    "    predictions = eval_pred.predictions\n",
    "\n",
    "    label_ids = eval_pred.label_ids\n",
    "\n",
    "    predicted_labels = predictions.argmax(axis=1)\n",
    "    acc_score = accuracy.compute(predictions=predicted_labels, references=label_ids)[\n",
    "        \"accuracy\"\n",
    "    ]\n",
    "\n",
    "    return {\"accuracy\": acc_score}"
   ]
  },
  {
   "cell_type": "code",
   "execution_count": null,
   "metadata": {
    "execution": {
     "iopub.execute_input": "2024-04-06T08:15:04.088733Z",
     "iopub.status.busy": "2024-04-06T08:15:04.088452Z",
     "iopub.status.idle": "2024-04-06T08:15:04.173909Z",
     "shell.execute_reply": "2024-04-06T08:15:04.173113Z",
     "shell.execute_reply.started": "2024-04-06T08:15:04.088709Z"
    },
    "trusted": true
   },
   "outputs": [],
   "source": [
    "metric_name = \"accuracy\"\n",
    "\n",
    "model_name = \"ai_vs_real_image_detection\"\n",
    "num_train_epochs = 2\n",
    "\n",
    "# Instance of TrainingArguments to configure training settings.\n",
    "args = TrainingArguments(\n",
    "    output_dir=model_name,\n",
    "    logging_dir=\"./logs\",\n",
    "    evaluation_strategy=\"epoch\",\n",
    "    learning_rate=1e-6,\n",
    "    per_device_train_batch_size=64,\n",
    "    per_device_eval_batch_size=32,\n",
    "    num_train_epochs=num_train_epochs,\n",
    "    weight_decay=0.02,\n",
    "    warmup_steps=50,\n",
    "    remove_unused_columns=False,\n",
    "    save_strategy=\"epoch\",\n",
    "    load_best_model_at_end=True,\n",
    "    save_total_limit=1,\n",
    "    report_to=\"none\",\n",
    ")\n",
    "\n",
    "trainer = Trainer(\n",
    "    model,\n",
    "    args,\n",
    "    train_dataset=train_data,\n",
    "    eval_dataset=test_data,\n",
    "    data_collator=collate_fn,\n",
    "    compute_metrics=compute_metrics,\n",
    "    tokenizer=processor,\n",
    ")\n",
    "\n",
    "# Start training the model using the trainer object.\n",
    "trainer.train()"
   ]
  },
  {
   "cell_type": "code",
   "execution_count": null,
   "metadata": {
    "execution": {
     "iopub.execute_input": "2024-04-06T10:08:19.264844Z",
     "iopub.status.busy": "2024-04-06T10:08:19.264466Z",
     "iopub.status.idle": "2024-04-06T10:19:36.010034Z",
     "shell.execute_reply": "2024-04-06T10:19:36.009082Z",
     "shell.execute_reply.started": "2024-04-06T10:08:19.264810Z"
    },
    "trusted": true
   },
   "outputs": [
    {
     "name": "stdout",
     "output_type": "stream",
     "text": [
      "{'test_loss': 0.04815581813454628, 'test_accuracy': 0.9825, 'test_runtime': 676.7385, 'test_samples_per_second': 70.928, 'test_steps_per_second': 2.217}\n"
     ]
    }
   ],
   "source": [
    "outputs = trainer.predict(test_data)\n",
    "print(outputs.metrics)"
   ]
  },
  {
   "cell_type": "code",
   "execution_count": null,
   "metadata": {
    "execution": {
     "iopub.execute_input": "2024-04-06T10:19:36.011428Z",
     "iopub.status.busy": "2024-04-06T10:19:36.011152Z",
     "iopub.status.idle": "2024-04-06T10:19:36.447314Z",
     "shell.execute_reply": "2024-04-06T10:19:36.446344Z",
     "shell.execute_reply.started": "2024-04-06T10:19:36.011403Z"
    },
    "trusted": true
   },
   "outputs": [
    {
     "name": "stdout",
     "output_type": "stream",
     "text": [
      "Accuracy: 0.9825\n",
      "F1 Score: 0.9825\n"
     ]
    },
    {
     "data": {
      "image/png": "[encoded data removed]",
      "text/plain": [
       "<Figure size 800x600 with 2 Axes>"
      ]
     },
     "metadata": {},
     "output_type": "display_data"
    },
    {
     "name": "stdout",
     "output_type": "stream",
     "text": [
      "\n",
      "Classification report:\n",
      "\n",
      "              precision    recall  f1-score   support\n",
      "\n",
      "        REAL     0.9868    0.9780    0.9824     24000\n",
      "        FAKE     0.9782    0.9870    0.9826     24000\n",
      "\n",
      "    accuracy                         0.9825     48000\n",
      "   macro avg     0.9825    0.9825    0.9825     48000\n",
      "weighted avg     0.9825    0.9825    0.9825     48000\n",
      "\n"
     ]
    }
   ],
   "source": [
    "# Extract the true labels from the model outputs\n",
    "y_true = outputs.label_ids\n",
    "y_pred = outputs.predictions.argmax(1)\n",
    "\n",
    "\n",
    "# Function to plot a confusion matrix\n",
    "def plot_confusion_matrix(\n",
    "    cm, classes, title=\"Confusion Matrix\", cmap=plt.cm.Blues, figsize=(10, 8)\n",
    "):\n",
    "    plt.figure(figsize=figsize)\n",
    "\n",
    "    # Display the confusion matrix as an image with a colormap\n",
    "    plt.imshow(cm, interpolation=\"nearest\", cmap=cmap)\n",
    "    plt.title(title)\n",
    "    plt.colorbar()\n",
    "\n",
    "    tick_marks = np.arange(len(classes))\n",
    "    plt.xticks(tick_marks, classes, rotation=90)\n",
    "    plt.yticks(tick_marks, classes)\n",
    "\n",
    "    fmt = \".0f\"\n",
    "    thresh = cm.max() / 2.0\n",
    "\n",
    "    for i, j in itertools.product(range(cm.shape[0]), range(cm.shape[1])):\n",
    "        plt.text(\n",
    "            j,\n",
    "            i,\n",
    "            format(cm[i, j], fmt),\n",
    "            horizontalalignment=\"center\",\n",
    "            color=\"white\" if cm[i, j] > thresh else \"black\",\n",
    "        )\n",
    "\n",
    "    plt.ylabel(\"True label\")\n",
    "    plt.xlabel(\"Predicted label\")\n",
    "\n",
    "    plt.tight_layout()\n",
    "    plt.show()\n",
    "\n",
    "\n",
    "# Calculate accuracy and F1 score\n",
    "accuracy = accuracy_score(y_true, y_pred)\n",
    "f1 = f1_score(y_true, y_pred, average=\"macro\")\n",
    "\n",
    "# Display accuracy and F1 score\n",
    "print(f\"Accuracy: {accuracy:.4f}\")\n",
    "print(f\"F1 Score: {f1:.4f}\")\n",
    "\n",
    "cm = confusion_matrix(y_true, y_pred)\n",
    "\n",
    "plot_confusion_matrix(cm, labels_list, figsize=(8, 6))\n",
    "\n",
    "print()\n",
    "print(\"Classification report:\")\n",
    "print()\n",
    "print(classification_report(y_true, y_pred, target_names=labels_list, digits=4))"
   ]
  },
  {
   "cell_type": "code",
   "execution_count": null,
   "metadata": {
    "execution": {
     "iopub.execute_input": "2024-04-06T10:19:36.449439Z",
     "iopub.status.busy": "2024-04-06T10:19:36.448731Z",
     "iopub.status.idle": "2024-04-06T10:19:37.113931Z",
     "shell.execute_reply": "2024-04-06T10:19:37.113167Z",
     "shell.execute_reply.started": "2024-04-06T10:19:36.449398Z"
    },
    "trusted": true
   },
   "outputs": [],
   "source": [
    "trainer.save_model()"
   ]
  }
 ],
 "metadata": {
  "kaggle": {
   "accelerator": "gpu",
   "dataSources": [
    {
     "datasetId": 3041726,
     "sourceId": 5256696,
     "sourceType": "datasetVersion"
    }
   ],
   "dockerImageVersionId": 30559,
   "isGpuEnabled": true,
   "isInternetEnabled": true,
   "language": "python",
   "sourceType": "notebook"
  },
  "kernelspec": {
   "display_name": "Python 3",
   "language": "python",
   "name": "python3"
  },
  "language_info": {
   "codemirror_mode": {
    "name": "ipython",
    "version": 3
   },
   "file_extension": ".py",
   "mimetype": "text/x-python",
   "name": "python",
   "nbconvert_exporter": "python",
   "pygments_lexer": "ipython3",
   "version": "3.11.4"
  }
 },
 "nbformat": 4,
 "nbformat_minor": 4
}
