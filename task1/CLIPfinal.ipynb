{
  "nbformat": 4,
  "nbformat_minor": 0,
  "metadata": {
    "colab": {
      "provenance": [],
      "gpuType": "T4",
      "collapsed_sections": [
        "R7vFT6XOa5ov",
        "Jsq1w9i52MRb",
        "zV6B-dt9aA_o",
        "nzA45JC-znL0",
        "NoQCBVp8K5Wr"
      ]
    },
    "kernelspec": {
      "name": "python3",
      "display_name": "Python 3"
    },
    "language_info": {
      "name": "python"
    },
    "accelerator": "GPU",
    "widgets": {
      "application/vnd.jupyter.widget-state+json": {
        "f533a32d60dc4b5b96192a34be28e280": {
          "model_module": "@jupyter-widgets/controls",
          "model_name": "HBoxModel",
          "model_module_version": "1.5.0",
          "state": {
            "_dom_classes": [],
            "_model_module": "@jupyter-widgets/controls",
            "_model_module_version": "1.5.0",
            "_model_name": "HBoxModel",
            "_view_count": null,
            "_view_module": "@jupyter-widgets/controls",
            "_view_module_version": "1.5.0",
            "_view_name": "HBoxView",
            "box_style": "",
            "children": [
              "IPY_MODEL_66e9ef4d27e748c6a6b9291dff3f3a96",
              "IPY_MODEL_1200a2ce188f4c8592d2a67523102d6b",
              "IPY_MODEL_0e2fb24c45db452daff47d3117b7db5b"
            ],
            "layout": "IPY_MODEL_ff84f60a5c174b5f8913829239c7ea5a"
          }
        },
        "66e9ef4d27e748c6a6b9291dff3f3a96": {
          "model_module": "@jupyter-widgets/controls",
          "model_name": "HTMLModel",
          "model_module_version": "1.5.0",
          "state": {
            "_dom_classes": [],
            "_model_module": "@jupyter-widgets/controls",
            "_model_module_version": "1.5.0",
            "_model_name": "HTMLModel",
            "_view_count": null,
            "_view_module": "@jupyter-widgets/controls",
            "_view_module_version": "1.5.0",
            "_view_name": "HTMLView",
            "description": "",
            "description_tooltip": null,
            "layout": "IPY_MODEL_c0fba3b2d7bf49768c9dab3176609af4",
            "placeholder": "​",
            "style": "IPY_MODEL_1d68c6af6c384706b6010a693018ba89",
            "value": "config.json: 100%"
          }
        },
        "1200a2ce188f4c8592d2a67523102d6b": {
          "model_module": "@jupyter-widgets/controls",
          "model_name": "FloatProgressModel",
          "model_module_version": "1.5.0",
          "state": {
            "_dom_classes": [],
            "_model_module": "@jupyter-widgets/controls",
            "_model_module_version": "1.5.0",
            "_model_name": "FloatProgressModel",
            "_view_count": null,
            "_view_module": "@jupyter-widgets/controls",
            "_view_module_version": "1.5.0",
            "_view_name": "ProgressView",
            "bar_style": "success",
            "description": "",
            "description_tooltip": null,
            "layout": "IPY_MODEL_3bafc3fa67ab4ef58ac0699c6c054370",
            "max": 4186,
            "min": 0,
            "orientation": "horizontal",
            "style": "IPY_MODEL_521cb2ae66b946809c80142b24533e22",
            "value": 4186
          }
        },
        "0e2fb24c45db452daff47d3117b7db5b": {
          "model_module": "@jupyter-widgets/controls",
          "model_name": "HTMLModel",
          "model_module_version": "1.5.0",
          "state": {
            "_dom_classes": [],
            "_model_module": "@jupyter-widgets/controls",
            "_model_module_version": "1.5.0",
            "_model_name": "HTMLModel",
            "_view_count": null,
            "_view_module": "@jupyter-widgets/controls",
            "_view_module_version": "1.5.0",
            "_view_name": "HTMLView",
            "description": "",
            "description_tooltip": null,
            "layout": "IPY_MODEL_038bd175691c41c98957e42a29a11ba8",
            "placeholder": "​",
            "style": "IPY_MODEL_1dac2bc5dcf44b159d5b8946b8bd96da",
            "value": " 4.19k/4.19k [00:00&lt;00:00, 114kB/s]"
          }
        },
        "ff84f60a5c174b5f8913829239c7ea5a": {
          "model_module": "@jupyter-widgets/base",
          "model_name": "LayoutModel",
          "model_module_version": "1.2.0",
          "state": {
            "_model_module": "@jupyter-widgets/base",
            "_model_module_version": "1.2.0",
            "_model_name": "LayoutModel",
            "_view_count": null,
            "_view_module": "@jupyter-widgets/base",
            "_view_module_version": "1.2.0",
            "_view_name": "LayoutView",
            "align_content": null,
            "align_items": null,
            "align_self": null,
            "border": null,
            "bottom": null,
            "display": null,
            "flex": null,
            "flex_flow": null,
            "grid_area": null,
            "grid_auto_columns": null,
            "grid_auto_flow": null,
            "grid_auto_rows": null,
            "grid_column": null,
            "grid_gap": null,
            "grid_row": null,
            "grid_template_areas": null,
            "grid_template_columns": null,
            "grid_template_rows": null,
            "height": null,
            "justify_content": null,
            "justify_items": null,
            "left": null,
            "margin": null,
            "max_height": null,
            "max_width": null,
            "min_height": null,
            "min_width": null,
            "object_fit": null,
            "object_position": null,
            "order": null,
            "overflow": null,
            "overflow_x": null,
            "overflow_y": null,
            "padding": null,
            "right": null,
            "top": null,
            "visibility": null,
            "width": null
          }
        },
        "c0fba3b2d7bf49768c9dab3176609af4": {
          "model_module": "@jupyter-widgets/base",
          "model_name": "LayoutModel",
          "model_module_version": "1.2.0",
          "state": {
            "_model_module": "@jupyter-widgets/base",
            "_model_module_version": "1.2.0",
            "_model_name": "LayoutModel",
            "_view_count": null,
            "_view_module": "@jupyter-widgets/base",
            "_view_module_version": "1.2.0",
            "_view_name": "LayoutView",
            "align_content": null,
            "align_items": null,
            "align_self": null,
            "border": null,
            "bottom": null,
            "display": null,
            "flex": null,
            "flex_flow": null,
            "grid_area": null,
            "grid_auto_columns": null,
            "grid_auto_flow": null,
            "grid_auto_rows": null,
            "grid_column": null,
            "grid_gap": null,
            "grid_row": null,
            "grid_template_areas": null,
            "grid_template_columns": null,
            "grid_template_rows": null,
            "height": null,
            "justify_content": null,
            "justify_items": null,
            "left": null,
            "margin": null,
            "max_height": null,
            "max_width": null,
            "min_height": null,
            "min_width": null,
            "object_fit": null,
            "object_position": null,
            "order": null,
            "overflow": null,
            "overflow_x": null,
            "overflow_y": null,
            "padding": null,
            "right": null,
            "top": null,
            "visibility": null,
            "width": null
          }
        },
        "1d68c6af6c384706b6010a693018ba89": {
          "model_module": "@jupyter-widgets/controls",
          "model_name": "DescriptionStyleModel",
          "model_module_version": "1.5.0",
          "state": {
            "_model_module": "@jupyter-widgets/controls",
            "_model_module_version": "1.5.0",
            "_model_name": "DescriptionStyleModel",
            "_view_count": null,
            "_view_module": "@jupyter-widgets/base",
            "_view_module_version": "1.2.0",
            "_view_name": "StyleView",
            "description_width": ""
          }
        },
        "3bafc3fa67ab4ef58ac0699c6c054370": {
          "model_module": "@jupyter-widgets/base",
          "model_name": "LayoutModel",
          "model_module_version": "1.2.0",
          "state": {
            "_model_module": "@jupyter-widgets/base",
            "_model_module_version": "1.2.0",
            "_model_name": "LayoutModel",
            "_view_count": null,
            "_view_module": "@jupyter-widgets/base",
            "_view_module_version": "1.2.0",
            "_view_name": "LayoutView",
            "align_content": null,
            "align_items": null,
            "align_self": null,
            "border": null,
            "bottom": null,
            "display": null,
            "flex": null,
            "flex_flow": null,
            "grid_area": null,
            "grid_auto_columns": null,
            "grid_auto_flow": null,
            "grid_auto_rows": null,
            "grid_column": null,
            "grid_gap": null,
            "grid_row": null,
            "grid_template_areas": null,
            "grid_template_columns": null,
            "grid_template_rows": null,
            "height": null,
            "justify_content": null,
            "justify_items": null,
            "left": null,
            "margin": null,
            "max_height": null,
            "max_width": null,
            "min_height": null,
            "min_width": null,
            "object_fit": null,
            "object_position": null,
            "order": null,
            "overflow": null,
            "overflow_x": null,
            "overflow_y": null,
            "padding": null,
            "right": null,
            "top": null,
            "visibility": null,
            "width": null
          }
        },
        "521cb2ae66b946809c80142b24533e22": {
          "model_module": "@jupyter-widgets/controls",
          "model_name": "ProgressStyleModel",
          "model_module_version": "1.5.0",
          "state": {
            "_model_module": "@jupyter-widgets/controls",
            "_model_module_version": "1.5.0",
            "_model_name": "ProgressStyleModel",
            "_view_count": null,
            "_view_module": "@jupyter-widgets/base",
            "_view_module_version": "1.2.0",
            "_view_name": "StyleView",
            "bar_color": null,
            "description_width": ""
          }
        },
        "038bd175691c41c98957e42a29a11ba8": {
          "model_module": "@jupyter-widgets/base",
          "model_name": "LayoutModel",
          "model_module_version": "1.2.0",
          "state": {
            "_model_module": "@jupyter-widgets/base",
            "_model_module_version": "1.2.0",
            "_model_name": "LayoutModel",
            "_view_count": null,
            "_view_module": "@jupyter-widgets/base",
            "_view_module_version": "1.2.0",
            "_view_name": "LayoutView",
            "align_content": null,
            "align_items": null,
            "align_self": null,
            "border": null,
            "bottom": null,
            "display": null,
            "flex": null,
            "flex_flow": null,
            "grid_area": null,
            "grid_auto_columns": null,
            "grid_auto_flow": null,
            "grid_auto_rows": null,
            "grid_column": null,
            "grid_gap": null,
            "grid_row": null,
            "grid_template_areas": null,
            "grid_template_columns": null,
            "grid_template_rows": null,
            "height": null,
            "justify_content": null,
            "justify_items": null,
            "left": null,
            "margin": null,
            "max_height": null,
            "max_width": null,
            "min_height": null,
            "min_width": null,
            "object_fit": null,
            "object_position": null,
            "order": null,
            "overflow": null,
            "overflow_x": null,
            "overflow_y": null,
            "padding": null,
            "right": null,
            "top": null,
            "visibility": null,
            "width": null
          }
        },
        "1dac2bc5dcf44b159d5b8946b8bd96da": {
          "model_module": "@jupyter-widgets/controls",
          "model_name": "DescriptionStyleModel",
          "model_module_version": "1.5.0",
          "state": {
            "_model_module": "@jupyter-widgets/controls",
            "_model_module_version": "1.5.0",
            "_model_name": "DescriptionStyleModel",
            "_view_count": null,
            "_view_module": "@jupyter-widgets/base",
            "_view_module_version": "1.2.0",
            "_view_name": "StyleView",
            "description_width": ""
          }
        },
        "0ce16a62ba2b408eb5fa7348e60dd5c4": {
          "model_module": "@jupyter-widgets/controls",
          "model_name": "HBoxModel",
          "model_module_version": "1.5.0",
          "state": {
            "_dom_classes": [],
            "_model_module": "@jupyter-widgets/controls",
            "_model_module_version": "1.5.0",
            "_model_name": "HBoxModel",
            "_view_count": null,
            "_view_module": "@jupyter-widgets/controls",
            "_view_module_version": "1.5.0",
            "_view_name": "HBoxView",
            "box_style": "",
            "children": [
              "IPY_MODEL_1f296bffdf3c48d3a16e4a21e5d748d9",
              "IPY_MODEL_78ff596d4b01412eabcbbdaa4e7f240f",
              "IPY_MODEL_7fe8536649cb4393992cbed113c983ce"
            ],
            "layout": "IPY_MODEL_c845038f568c425ca86b0a88aea980a5"
          }
        },
        "1f296bffdf3c48d3a16e4a21e5d748d9": {
          "model_module": "@jupyter-widgets/controls",
          "model_name": "HTMLModel",
          "model_module_version": "1.5.0",
          "state": {
            "_dom_classes": [],
            "_model_module": "@jupyter-widgets/controls",
            "_model_module_version": "1.5.0",
            "_model_name": "HTMLModel",
            "_view_count": null,
            "_view_module": "@jupyter-widgets/controls",
            "_view_module_version": "1.5.0",
            "_view_name": "HTMLView",
            "description": "",
            "description_tooltip": null,
            "layout": "IPY_MODEL_60360ddd2a6247579b935e22d713873f",
            "placeholder": "​",
            "style": "IPY_MODEL_39934e5bae7049caac244f5fac45e50b",
            "value": "pytorch_model.bin: 100%"
          }
        },
        "78ff596d4b01412eabcbbdaa4e7f240f": {
          "model_module": "@jupyter-widgets/controls",
          "model_name": "FloatProgressModel",
          "model_module_version": "1.5.0",
          "state": {
            "_dom_classes": [],
            "_model_module": "@jupyter-widgets/controls",
            "_model_module_version": "1.5.0",
            "_model_name": "FloatProgressModel",
            "_view_count": null,
            "_view_module": "@jupyter-widgets/controls",
            "_view_module_version": "1.5.0",
            "_view_name": "ProgressView",
            "bar_style": "success",
            "description": "",
            "description_tooltip": null,
            "layout": "IPY_MODEL_b387c7aef00c47feb6cadad9742a9459",
            "max": 605247071,
            "min": 0,
            "orientation": "horizontal",
            "style": "IPY_MODEL_cab602db22374bfb934dfa425446cd28",
            "value": 605247071
          }
        },
        "7fe8536649cb4393992cbed113c983ce": {
          "model_module": "@jupyter-widgets/controls",
          "model_name": "HTMLModel",
          "model_module_version": "1.5.0",
          "state": {
            "_dom_classes": [],
            "_model_module": "@jupyter-widgets/controls",
            "_model_module_version": "1.5.0",
            "_model_name": "HTMLModel",
            "_view_count": null,
            "_view_module": "@jupyter-widgets/controls",
            "_view_module_version": "1.5.0",
            "_view_name": "HTMLView",
            "description": "",
            "description_tooltip": null,
            "layout": "IPY_MODEL_0d2fa23d9e4740218f9293b20ec524c0",
            "placeholder": "​",
            "style": "IPY_MODEL_e9a5fc697c4144298a342594a1602087",
            "value": " 605M/605M [00:02&lt;00:00, 239MB/s]"
          }
        },
        "c845038f568c425ca86b0a88aea980a5": {
          "model_module": "@jupyter-widgets/base",
          "model_name": "LayoutModel",
          "model_module_version": "1.2.0",
          "state": {
            "_model_module": "@jupyter-widgets/base",
            "_model_module_version": "1.2.0",
            "_model_name": "LayoutModel",
            "_view_count": null,
            "_view_module": "@jupyter-widgets/base",
            "_view_module_version": "1.2.0",
            "_view_name": "LayoutView",
            "align_content": null,
            "align_items": null,
            "align_self": null,
            "border": null,
            "bottom": null,
            "display": null,
            "flex": null,
            "flex_flow": null,
            "grid_area": null,
            "grid_auto_columns": null,
            "grid_auto_flow": null,
            "grid_auto_rows": null,
            "grid_column": null,
            "grid_gap": null,
            "grid_row": null,
            "grid_template_areas": null,
            "grid_template_columns": null,
            "grid_template_rows": null,
            "height": null,
            "justify_content": null,
            "justify_items": null,
            "left": null,
            "margin": null,
            "max_height": null,
            "max_width": null,
            "min_height": null,
            "min_width": null,
            "object_fit": null,
            "object_position": null,
            "order": null,
            "overflow": null,
            "overflow_x": null,
            "overflow_y": null,
            "padding": null,
            "right": null,
            "top": null,
            "visibility": null,
            "width": null
          }
        },
        "60360ddd2a6247579b935e22d713873f": {
          "model_module": "@jupyter-widgets/base",
          "model_name": "LayoutModel",
          "model_module_version": "1.2.0",
          "state": {
            "_model_module": "@jupyter-widgets/base",
            "_model_module_version": "1.2.0",
            "_model_name": "LayoutModel",
            "_view_count": null,
            "_view_module": "@jupyter-widgets/base",
            "_view_module_version": "1.2.0",
            "_view_name": "LayoutView",
            "align_content": null,
            "align_items": null,
            "align_self": null,
            "border": null,
            "bottom": null,
            "display": null,
            "flex": null,
            "flex_flow": null,
            "grid_area": null,
            "grid_auto_columns": null,
            "grid_auto_flow": null,
            "grid_auto_rows": null,
            "grid_column": null,
            "grid_gap": null,
            "grid_row": null,
            "grid_template_areas": null,
            "grid_template_columns": null,
            "grid_template_rows": null,
            "height": null,
            "justify_content": null,
            "justify_items": null,
            "left": null,
            "margin": null,
            "max_height": null,
            "max_width": null,
            "min_height": null,
            "min_width": null,
            "object_fit": null,
            "object_position": null,
            "order": null,
            "overflow": null,
            "overflow_x": null,
            "overflow_y": null,
            "padding": null,
            "right": null,
            "top": null,
            "visibility": null,
            "width": null
          }
        },
        "39934e5bae7049caac244f5fac45e50b": {
          "model_module": "@jupyter-widgets/controls",
          "model_name": "DescriptionStyleModel",
          "model_module_version": "1.5.0",
          "state": {
            "_model_module": "@jupyter-widgets/controls",
            "_model_module_version": "1.5.0",
            "_model_name": "DescriptionStyleModel",
            "_view_count": null,
            "_view_module": "@jupyter-widgets/base",
            "_view_module_version": "1.2.0",
            "_view_name": "StyleView",
            "description_width": ""
          }
        },
        "b387c7aef00c47feb6cadad9742a9459": {
          "model_module": "@jupyter-widgets/base",
          "model_name": "LayoutModel",
          "model_module_version": "1.2.0",
          "state": {
            "_model_module": "@jupyter-widgets/base",
            "_model_module_version": "1.2.0",
            "_model_name": "LayoutModel",
            "_view_count": null,
            "_view_module": "@jupyter-widgets/base",
            "_view_module_version": "1.2.0",
            "_view_name": "LayoutView",
            "align_content": null,
            "align_items": null,
            "align_self": null,
            "border": null,
            "bottom": null,
            "display": null,
            "flex": null,
            "flex_flow": null,
            "grid_area": null,
            "grid_auto_columns": null,
            "grid_auto_flow": null,
            "grid_auto_rows": null,
            "grid_column": null,
            "grid_gap": null,
            "grid_row": null,
            "grid_template_areas": null,
            "grid_template_columns": null,
            "grid_template_rows": null,
            "height": null,
            "justify_content": null,
            "justify_items": null,
            "left": null,
            "margin": null,
            "max_height": null,
            "max_width": null,
            "min_height": null,
            "min_width": null,
            "object_fit": null,
            "object_position": null,
            "order": null,
            "overflow": null,
            "overflow_x": null,
            "overflow_y": null,
            "padding": null,
            "right": null,
            "top": null,
            "visibility": null,
            "width": null
          }
        },
        "cab602db22374bfb934dfa425446cd28": {
          "model_module": "@jupyter-widgets/controls",
          "model_name": "ProgressStyleModel",
          "model_module_version": "1.5.0",
          "state": {
            "_model_module": "@jupyter-widgets/controls",
            "_model_module_version": "1.5.0",
            "_model_name": "ProgressStyleModel",
            "_view_count": null,
            "_view_module": "@jupyter-widgets/base",
            "_view_module_version": "1.2.0",
            "_view_name": "StyleView",
            "bar_color": null,
            "description_width": ""
          }
        },
        "0d2fa23d9e4740218f9293b20ec524c0": {
          "model_module": "@jupyter-widgets/base",
          "model_name": "LayoutModel",
          "model_module_version": "1.2.0",
          "state": {
            "_model_module": "@jupyter-widgets/base",
            "_model_module_version": "1.2.0",
            "_model_name": "LayoutModel",
            "_view_count": null,
            "_view_module": "@jupyter-widgets/base",
            "_view_module_version": "1.2.0",
            "_view_name": "LayoutView",
            "align_content": null,
            "align_items": null,
            "align_self": null,
            "border": null,
            "bottom": null,
            "display": null,
            "flex": null,
            "flex_flow": null,
            "grid_area": null,
            "grid_auto_columns": null,
            "grid_auto_flow": null,
            "grid_auto_rows": null,
            "grid_column": null,
            "grid_gap": null,
            "grid_row": null,
            "grid_template_areas": null,
            "grid_template_columns": null,
            "grid_template_rows": null,
            "height": null,
            "justify_content": null,
            "justify_items": null,
            "left": null,
            "margin": null,
            "max_height": null,
            "max_width": null,
            "min_height": null,
            "min_width": null,
            "object_fit": null,
            "object_position": null,
            "order": null,
            "overflow": null,
            "overflow_x": null,
            "overflow_y": null,
            "padding": null,
            "right": null,
            "top": null,
            "visibility": null,
            "width": null
          }
        },
        "e9a5fc697c4144298a342594a1602087": {
          "model_module": "@jupyter-widgets/controls",
          "model_name": "DescriptionStyleModel",
          "model_module_version": "1.5.0",
          "state": {
            "_model_module": "@jupyter-widgets/controls",
            "_model_module_version": "1.5.0",
            "_model_name": "DescriptionStyleModel",
            "_view_count": null,
            "_view_module": "@jupyter-widgets/base",
            "_view_module_version": "1.2.0",
            "_view_name": "StyleView",
            "description_width": ""
          }
        },
        "55415f6b71d74537997c319451a9afa8": {
          "model_module": "@jupyter-widgets/controls",
          "model_name": "HBoxModel",
          "model_module_version": "1.5.0",
          "state": {
            "_dom_classes": [],
            "_model_module": "@jupyter-widgets/controls",
            "_model_module_version": "1.5.0",
            "_model_name": "HBoxModel",
            "_view_count": null,
            "_view_module": "@jupyter-widgets/controls",
            "_view_module_version": "1.5.0",
            "_view_name": "HBoxView",
            "box_style": "",
            "children": [
              "IPY_MODEL_8e38b31d641347059162d5f874c77eb5",
              "IPY_MODEL_bcc18fc498e7488e85b8efaa2bd58360",
              "IPY_MODEL_93204445c5164313ad7931dcd5cc57ac"
            ],
            "layout": "IPY_MODEL_19a0bbada1c3480aa8d862304e62fd90"
          }
        },
        "8e38b31d641347059162d5f874c77eb5": {
          "model_module": "@jupyter-widgets/controls",
          "model_name": "HTMLModel",
          "model_module_version": "1.5.0",
          "state": {
            "_dom_classes": [],
            "_model_module": "@jupyter-widgets/controls",
            "_model_module_version": "1.5.0",
            "_model_name": "HTMLModel",
            "_view_count": null,
            "_view_module": "@jupyter-widgets/controls",
            "_view_module_version": "1.5.0",
            "_view_name": "HTMLView",
            "description": "",
            "description_tooltip": null,
            "layout": "IPY_MODEL_e01891089a6e4a5581b499c47e3be79e",
            "placeholder": "​",
            "style": "IPY_MODEL_cf25e0eee83344e5835eb4a5e2364b88",
            "value": "preprocessor_config.json: 100%"
          }
        },
        "bcc18fc498e7488e85b8efaa2bd58360": {
          "model_module": "@jupyter-widgets/controls",
          "model_name": "FloatProgressModel",
          "model_module_version": "1.5.0",
          "state": {
            "_dom_classes": [],
            "_model_module": "@jupyter-widgets/controls",
            "_model_module_version": "1.5.0",
            "_model_name": "FloatProgressModel",
            "_view_count": null,
            "_view_module": "@jupyter-widgets/controls",
            "_view_module_version": "1.5.0",
            "_view_name": "ProgressView",
            "bar_style": "success",
            "description": "",
            "description_tooltip": null,
            "layout": "IPY_MODEL_38ac0a59a0bf42238c24f3d76e904210",
            "max": 316,
            "min": 0,
            "orientation": "horizontal",
            "style": "IPY_MODEL_64cfc88e47f14ac7bf48f2195bbda3e6",
            "value": 316
          }
        },
        "93204445c5164313ad7931dcd5cc57ac": {
          "model_module": "@jupyter-widgets/controls",
          "model_name": "HTMLModel",
          "model_module_version": "1.5.0",
          "state": {
            "_dom_classes": [],
            "_model_module": "@jupyter-widgets/controls",
            "_model_module_version": "1.5.0",
            "_model_name": "HTMLModel",
            "_view_count": null,
            "_view_module": "@jupyter-widgets/controls",
            "_view_module_version": "1.5.0",
            "_view_name": "HTMLView",
            "description": "",
            "description_tooltip": null,
            "layout": "IPY_MODEL_259aa45f391e4e6db162364412d4ba0a",
            "placeholder": "​",
            "style": "IPY_MODEL_4f5b704fe74544c8b735c85602328b7d",
            "value": " 316/316 [00:00&lt;00:00, 12.5kB/s]"
          }
        },
        "19a0bbada1c3480aa8d862304e62fd90": {
          "model_module": "@jupyter-widgets/base",
          "model_name": "LayoutModel",
          "model_module_version": "1.2.0",
          "state": {
            "_model_module": "@jupyter-widgets/base",
            "_model_module_version": "1.2.0",
            "_model_name": "LayoutModel",
            "_view_count": null,
            "_view_module": "@jupyter-widgets/base",
            "_view_module_version": "1.2.0",
            "_view_name": "LayoutView",
            "align_content": null,
            "align_items": null,
            "align_self": null,
            "border": null,
            "bottom": null,
            "display": null,
            "flex": null,
            "flex_flow": null,
            "grid_area": null,
            "grid_auto_columns": null,
            "grid_auto_flow": null,
            "grid_auto_rows": null,
            "grid_column": null,
            "grid_gap": null,
            "grid_row": null,
            "grid_template_areas": null,
            "grid_template_columns": null,
            "grid_template_rows": null,
            "height": null,
            "justify_content": null,
            "justify_items": null,
            "left": null,
            "margin": null,
            "max_height": null,
            "max_width": null,
            "min_height": null,
            "min_width": null,
            "object_fit": null,
            "object_position": null,
            "order": null,
            "overflow": null,
            "overflow_x": null,
            "overflow_y": null,
            "padding": null,
            "right": null,
            "top": null,
            "visibility": null,
            "width": null
          }
        },
        "e01891089a6e4a5581b499c47e3be79e": {
          "model_module": "@jupyter-widgets/base",
          "model_name": "LayoutModel",
          "model_module_version": "1.2.0",
          "state": {
            "_model_module": "@jupyter-widgets/base",
            "_model_module_version": "1.2.0",
            "_model_name": "LayoutModel",
            "_view_count": null,
            "_view_module": "@jupyter-widgets/base",
            "_view_module_version": "1.2.0",
            "_view_name": "LayoutView",
            "align_content": null,
            "align_items": null,
            "align_self": null,
            "border": null,
            "bottom": null,
            "display": null,
            "flex": null,
            "flex_flow": null,
            "grid_area": null,
            "grid_auto_columns": null,
            "grid_auto_flow": null,
            "grid_auto_rows": null,
            "grid_column": null,
            "grid_gap": null,
            "grid_row": null,
            "grid_template_areas": null,
            "grid_template_columns": null,
            "grid_template_rows": null,
            "height": null,
            "justify_content": null,
            "justify_items": null,
            "left": null,
            "margin": null,
            "max_height": null,
            "max_width": null,
            "min_height": null,
            "min_width": null,
            "object_fit": null,
            "object_position": null,
            "order": null,
            "overflow": null,
            "overflow_x": null,
            "overflow_y": null,
            "padding": null,
            "right": null,
            "top": null,
            "visibility": null,
            "width": null
          }
        },
        "cf25e0eee83344e5835eb4a5e2364b88": {
          "model_module": "@jupyter-widgets/controls",
          "model_name": "DescriptionStyleModel",
          "model_module_version": "1.5.0",
          "state": {
            "_model_module": "@jupyter-widgets/controls",
            "_model_module_version": "1.5.0",
            "_model_name": "DescriptionStyleModel",
            "_view_count": null,
            "_view_module": "@jupyter-widgets/base",
            "_view_module_version": "1.2.0",
            "_view_name": "StyleView",
            "description_width": ""
          }
        },
        "38ac0a59a0bf42238c24f3d76e904210": {
          "model_module": "@jupyter-widgets/base",
          "model_name": "LayoutModel",
          "model_module_version": "1.2.0",
          "state": {
            "_model_module": "@jupyter-widgets/base",
            "_model_module_version": "1.2.0",
            "_model_name": "LayoutModel",
            "_view_count": null,
            "_view_module": "@jupyter-widgets/base",
            "_view_module_version": "1.2.0",
            "_view_name": "LayoutView",
            "align_content": null,
            "align_items": null,
            "align_self": null,
            "border": null,
            "bottom": null,
            "display": null,
            "flex": null,
            "flex_flow": null,
            "grid_area": null,
            "grid_auto_columns": null,
            "grid_auto_flow": null,
            "grid_auto_rows": null,
            "grid_column": null,
            "grid_gap": null,
            "grid_row": null,
            "grid_template_areas": null,
            "grid_template_columns": null,
            "grid_template_rows": null,
            "height": null,
            "justify_content": null,
            "justify_items": null,
            "left": null,
            "margin": null,
            "max_height": null,
            "max_width": null,
            "min_height": null,
            "min_width": null,
            "object_fit": null,
            "object_position": null,
            "order": null,
            "overflow": null,
            "overflow_x": null,
            "overflow_y": null,
            "padding": null,
            "right": null,
            "top": null,
            "visibility": null,
            "width": null
          }
        },
        "64cfc88e47f14ac7bf48f2195bbda3e6": {
          "model_module": "@jupyter-widgets/controls",
          "model_name": "ProgressStyleModel",
          "model_module_version": "1.5.0",
          "state": {
            "_model_module": "@jupyter-widgets/controls",
            "_model_module_version": "1.5.0",
            "_model_name": "ProgressStyleModel",
            "_view_count": null,
            "_view_module": "@jupyter-widgets/base",
            "_view_module_version": "1.2.0",
            "_view_name": "StyleView",
            "bar_color": null,
            "description_width": ""
          }
        },
        "259aa45f391e4e6db162364412d4ba0a": {
          "model_module": "@jupyter-widgets/base",
          "model_name": "LayoutModel",
          "model_module_version": "1.2.0",
          "state": {
            "_model_module": "@jupyter-widgets/base",
            "_model_module_version": "1.2.0",
            "_model_name": "LayoutModel",
            "_view_count": null,
            "_view_module": "@jupyter-widgets/base",
            "_view_module_version": "1.2.0",
            "_view_name": "LayoutView",
            "align_content": null,
            "align_items": null,
            "align_self": null,
            "border": null,
            "bottom": null,
            "display": null,
            "flex": null,
            "flex_flow": null,
            "grid_area": null,
            "grid_auto_columns": null,
            "grid_auto_flow": null,
            "grid_auto_rows": null,
            "grid_column": null,
            "grid_gap": null,
            "grid_row": null,
            "grid_template_areas": null,
            "grid_template_columns": null,
            "grid_template_rows": null,
            "height": null,
            "justify_content": null,
            "justify_items": null,
            "left": null,
            "margin": null,
            "max_height": null,
            "max_width": null,
            "min_height": null,
            "min_width": null,
            "object_fit": null,
            "object_position": null,
            "order": null,
            "overflow": null,
            "overflow_x": null,
            "overflow_y": null,
            "padding": null,
            "right": null,
            "top": null,
            "visibility": null,
            "width": null
          }
        },
        "4f5b704fe74544c8b735c85602328b7d": {
          "model_module": "@jupyter-widgets/controls",
          "model_name": "DescriptionStyleModel",
          "model_module_version": "1.5.0",
          "state": {
            "_model_module": "@jupyter-widgets/controls",
            "_model_module_version": "1.5.0",
            "_model_name": "DescriptionStyleModel",
            "_view_count": null,
            "_view_module": "@jupyter-widgets/base",
            "_view_module_version": "1.2.0",
            "_view_name": "StyleView",
            "description_width": ""
          }
        },
        "7896e9c4b7d14957888f6276415f7e21": {
          "model_module": "@jupyter-widgets/controls",
          "model_name": "HBoxModel",
          "model_module_version": "1.5.0",
          "state": {
            "_dom_classes": [],
            "_model_module": "@jupyter-widgets/controls",
            "_model_module_version": "1.5.0",
            "_model_name": "HBoxModel",
            "_view_count": null,
            "_view_module": "@jupyter-widgets/controls",
            "_view_module_version": "1.5.0",
            "_view_name": "HBoxView",
            "box_style": "",
            "children": [
              "IPY_MODEL_f2f2d018586f42fbaf1eb42460e156c0",
              "IPY_MODEL_1b577f8ab22040079f4d1b3f9fb7e0ca",
              "IPY_MODEL_97c5130389464d34b65bdde0a4ed73bf"
            ],
            "layout": "IPY_MODEL_733c1679d5b34751aaa45dad82f7cf64"
          }
        },
        "f2f2d018586f42fbaf1eb42460e156c0": {
          "model_module": "@jupyter-widgets/controls",
          "model_name": "HTMLModel",
          "model_module_version": "1.5.0",
          "state": {
            "_dom_classes": [],
            "_model_module": "@jupyter-widgets/controls",
            "_model_module_version": "1.5.0",
            "_model_name": "HTMLModel",
            "_view_count": null,
            "_view_module": "@jupyter-widgets/controls",
            "_view_module_version": "1.5.0",
            "_view_name": "HTMLView",
            "description": "",
            "description_tooltip": null,
            "layout": "IPY_MODEL_7916d633b8de45499cafd4fd6dd87bb0",
            "placeholder": "​",
            "style": "IPY_MODEL_9bcea189190449159212d93e0c179512",
            "value": "tokenizer_config.json: 100%"
          }
        },
        "1b577f8ab22040079f4d1b3f9fb7e0ca": {
          "model_module": "@jupyter-widgets/controls",
          "model_name": "FloatProgressModel",
          "model_module_version": "1.5.0",
          "state": {
            "_dom_classes": [],
            "_model_module": "@jupyter-widgets/controls",
            "_model_module_version": "1.5.0",
            "_model_name": "FloatProgressModel",
            "_view_count": null,
            "_view_module": "@jupyter-widgets/controls",
            "_view_module_version": "1.5.0",
            "_view_name": "ProgressView",
            "bar_style": "success",
            "description": "",
            "description_tooltip": null,
            "layout": "IPY_MODEL_d707f17690c44321a40d9a9c2104cee1",
            "max": 592,
            "min": 0,
            "orientation": "horizontal",
            "style": "IPY_MODEL_661c7424d6514314a726eb3b4b0572c0",
            "value": 592
          }
        },
        "97c5130389464d34b65bdde0a4ed73bf": {
          "model_module": "@jupyter-widgets/controls",
          "model_name": "HTMLModel",
          "model_module_version": "1.5.0",
          "state": {
            "_dom_classes": [],
            "_model_module": "@jupyter-widgets/controls",
            "_model_module_version": "1.5.0",
            "_model_name": "HTMLModel",
            "_view_count": null,
            "_view_module": "@jupyter-widgets/controls",
            "_view_module_version": "1.5.0",
            "_view_name": "HTMLView",
            "description": "",
            "description_tooltip": null,
            "layout": "IPY_MODEL_cb4e999ce3c541929bc424b3ef9ecc62",
            "placeholder": "​",
            "style": "IPY_MODEL_ab2890c3e86b4d359d882db3f0562a96",
            "value": " 592/592 [00:00&lt;00:00, 33.0kB/s]"
          }
        },
        "733c1679d5b34751aaa45dad82f7cf64": {
          "model_module": "@jupyter-widgets/base",
          "model_name": "LayoutModel",
          "model_module_version": "1.2.0",
          "state": {
            "_model_module": "@jupyter-widgets/base",
            "_model_module_version": "1.2.0",
            "_model_name": "LayoutModel",
            "_view_count": null,
            "_view_module": "@jupyter-widgets/base",
            "_view_module_version": "1.2.0",
            "_view_name": "LayoutView",
            "align_content": null,
            "align_items": null,
            "align_self": null,
            "border": null,
            "bottom": null,
            "display": null,
            "flex": null,
            "flex_flow": null,
            "grid_area": null,
            "grid_auto_columns": null,
            "grid_auto_flow": null,
            "grid_auto_rows": null,
            "grid_column": null,
            "grid_gap": null,
            "grid_row": null,
            "grid_template_areas": null,
            "grid_template_columns": null,
            "grid_template_rows": null,
            "height": null,
            "justify_content": null,
            "justify_items": null,
            "left": null,
            "margin": null,
            "max_height": null,
            "max_width": null,
            "min_height": null,
            "min_width": null,
            "object_fit": null,
            "object_position": null,
            "order": null,
            "overflow": null,
            "overflow_x": null,
            "overflow_y": null,
            "padding": null,
            "right": null,
            "top": null,
            "visibility": null,
            "width": null
          }
        },
        "7916d633b8de45499cafd4fd6dd87bb0": {
          "model_module": "@jupyter-widgets/base",
          "model_name": "LayoutModel",
          "model_module_version": "1.2.0",
          "state": {
            "_model_module": "@jupyter-widgets/base",
            "_model_module_version": "1.2.0",
            "_model_name": "LayoutModel",
            "_view_count": null,
            "_view_module": "@jupyter-widgets/base",
            "_view_module_version": "1.2.0",
            "_view_name": "LayoutView",
            "align_content": null,
            "align_items": null,
            "align_self": null,
            "border": null,
            "bottom": null,
            "display": null,
            "flex": null,
            "flex_flow": null,
            "grid_area": null,
            "grid_auto_columns": null,
            "grid_auto_flow": null,
            "grid_auto_rows": null,
            "grid_column": null,
            "grid_gap": null,
            "grid_row": null,
            "grid_template_areas": null,
            "grid_template_columns": null,
            "grid_template_rows": null,
            "height": null,
            "justify_content": null,
            "justify_items": null,
            "left": null,
            "margin": null,
            "max_height": null,
            "max_width": null,
            "min_height": null,
            "min_width": null,
            "object_fit": null,
            "object_position": null,
            "order": null,
            "overflow": null,
            "overflow_x": null,
            "overflow_y": null,
            "padding": null,
            "right": null,
            "top": null,
            "visibility": null,
            "width": null
          }
        },
        "9bcea189190449159212d93e0c179512": {
          "model_module": "@jupyter-widgets/controls",
          "model_name": "DescriptionStyleModel",
          "model_module_version": "1.5.0",
          "state": {
            "_model_module": "@jupyter-widgets/controls",
            "_model_module_version": "1.5.0",
            "_model_name": "DescriptionStyleModel",
            "_view_count": null,
            "_view_module": "@jupyter-widgets/base",
            "_view_module_version": "1.2.0",
            "_view_name": "StyleView",
            "description_width": ""
          }
        },
        "d707f17690c44321a40d9a9c2104cee1": {
          "model_module": "@jupyter-widgets/base",
          "model_name": "LayoutModel",
          "model_module_version": "1.2.0",
          "state": {
            "_model_module": "@jupyter-widgets/base",
            "_model_module_version": "1.2.0",
            "_model_name": "LayoutModel",
            "_view_count": null,
            "_view_module": "@jupyter-widgets/base",
            "_view_module_version": "1.2.0",
            "_view_name": "LayoutView",
            "align_content": null,
            "align_items": null,
            "align_self": null,
            "border": null,
            "bottom": null,
            "display": null,
            "flex": null,
            "flex_flow": null,
            "grid_area": null,
            "grid_auto_columns": null,
            "grid_auto_flow": null,
            "grid_auto_rows": null,
            "grid_column": null,
            "grid_gap": null,
            "grid_row": null,
            "grid_template_areas": null,
            "grid_template_columns": null,
            "grid_template_rows": null,
            "height": null,
            "justify_content": null,
            "justify_items": null,
            "left": null,
            "margin": null,
            "max_height": null,
            "max_width": null,
            "min_height": null,
            "min_width": null,
            "object_fit": null,
            "object_position": null,
            "order": null,
            "overflow": null,
            "overflow_x": null,
            "overflow_y": null,
            "padding": null,
            "right": null,
            "top": null,
            "visibility": null,
            "width": null
          }
        },
        "661c7424d6514314a726eb3b4b0572c0": {
          "model_module": "@jupyter-widgets/controls",
          "model_name": "ProgressStyleModel",
          "model_module_version": "1.5.0",
          "state": {
            "_model_module": "@jupyter-widgets/controls",
            "_model_module_version": "1.5.0",
            "_model_name": "ProgressStyleModel",
            "_view_count": null,
            "_view_module": "@jupyter-widgets/base",
            "_view_module_version": "1.2.0",
            "_view_name": "StyleView",
            "bar_color": null,
            "description_width": ""
          }
        },
        "cb4e999ce3c541929bc424b3ef9ecc62": {
          "model_module": "@jupyter-widgets/base",
          "model_name": "LayoutModel",
          "model_module_version": "1.2.0",
          "state": {
            "_model_module": "@jupyter-widgets/base",
            "_model_module_version": "1.2.0",
            "_model_name": "LayoutModel",
            "_view_count": null,
            "_view_module": "@jupyter-widgets/base",
            "_view_module_version": "1.2.0",
            "_view_name": "LayoutView",
            "align_content": null,
            "align_items": null,
            "align_self": null,
            "border": null,
            "bottom": null,
            "display": null,
            "flex": null,
            "flex_flow": null,
            "grid_area": null,
            "grid_auto_columns": null,
            "grid_auto_flow": null,
            "grid_auto_rows": null,
            "grid_column": null,
            "grid_gap": null,
            "grid_row": null,
            "grid_template_areas": null,
            "grid_template_columns": null,
            "grid_template_rows": null,
            "height": null,
            "justify_content": null,
            "justify_items": null,
            "left": null,
            "margin": null,
            "max_height": null,
            "max_width": null,
            "min_height": null,
            "min_width": null,
            "object_fit": null,
            "object_position": null,
            "order": null,
            "overflow": null,
            "overflow_x": null,
            "overflow_y": null,
            "padding": null,
            "right": null,
            "top": null,
            "visibility": null,
            "width": null
          }
        },
        "ab2890c3e86b4d359d882db3f0562a96": {
          "model_module": "@jupyter-widgets/controls",
          "model_name": "DescriptionStyleModel",
          "model_module_version": "1.5.0",
          "state": {
            "_model_module": "@jupyter-widgets/controls",
            "_model_module_version": "1.5.0",
            "_model_name": "DescriptionStyleModel",
            "_view_count": null,
            "_view_module": "@jupyter-widgets/base",
            "_view_module_version": "1.2.0",
            "_view_name": "StyleView",
            "description_width": ""
          }
        },
        "6200dd10fc1a4117ba23cb9a0a439605": {
          "model_module": "@jupyter-widgets/controls",
          "model_name": "HBoxModel",
          "model_module_version": "1.5.0",
          "state": {
            "_dom_classes": [],
            "_model_module": "@jupyter-widgets/controls",
            "_model_module_version": "1.5.0",
            "_model_name": "HBoxModel",
            "_view_count": null,
            "_view_module": "@jupyter-widgets/controls",
            "_view_module_version": "1.5.0",
            "_view_name": "HBoxView",
            "box_style": "",
            "children": [
              "IPY_MODEL_8fca151fd6b944c49b68b5185b2a2b34",
              "IPY_MODEL_58f2ec43f97f4e009d2d27520d80e6ad",
              "IPY_MODEL_19e3790b0c364a4881a73b35388c9b73"
            ],
            "layout": "IPY_MODEL_f14ab738fc7c422396ba56f2f178055f"
          }
        },
        "8fca151fd6b944c49b68b5185b2a2b34": {
          "model_module": "@jupyter-widgets/controls",
          "model_name": "HTMLModel",
          "model_module_version": "1.5.0",
          "state": {
            "_dom_classes": [],
            "_model_module": "@jupyter-widgets/controls",
            "_model_module_version": "1.5.0",
            "_model_name": "HTMLModel",
            "_view_count": null,
            "_view_module": "@jupyter-widgets/controls",
            "_view_module_version": "1.5.0",
            "_view_name": "HTMLView",
            "description": "",
            "description_tooltip": null,
            "layout": "IPY_MODEL_910901c2da214627ac5a644111f2fc8b",
            "placeholder": "​",
            "style": "IPY_MODEL_3d899bf5d0af48f9a886d5a8a716d42e",
            "value": "vocab.json: 100%"
          }
        },
        "58f2ec43f97f4e009d2d27520d80e6ad": {
          "model_module": "@jupyter-widgets/controls",
          "model_name": "FloatProgressModel",
          "model_module_version": "1.5.0",
          "state": {
            "_dom_classes": [],
            "_model_module": "@jupyter-widgets/controls",
            "_model_module_version": "1.5.0",
            "_model_name": "FloatProgressModel",
            "_view_count": null,
            "_view_module": "@jupyter-widgets/controls",
            "_view_module_version": "1.5.0",
            "_view_name": "ProgressView",
            "bar_style": "success",
            "description": "",
            "description_tooltip": null,
            "layout": "IPY_MODEL_b54047ac10e74b8481ab0095c553db20",
            "max": 862328,
            "min": 0,
            "orientation": "horizontal",
            "style": "IPY_MODEL_d81633e5079e408eb89bd111c888ee1e",
            "value": 862328
          }
        },
        "19e3790b0c364a4881a73b35388c9b73": {
          "model_module": "@jupyter-widgets/controls",
          "model_name": "HTMLModel",
          "model_module_version": "1.5.0",
          "state": {
            "_dom_classes": [],
            "_model_module": "@jupyter-widgets/controls",
            "_model_module_version": "1.5.0",
            "_model_name": "HTMLModel",
            "_view_count": null,
            "_view_module": "@jupyter-widgets/controls",
            "_view_module_version": "1.5.0",
            "_view_name": "HTMLView",
            "description": "",
            "description_tooltip": null,
            "layout": "IPY_MODEL_b986d9171d4b49ed937e5828b131bc41",
            "placeholder": "​",
            "style": "IPY_MODEL_e142703d5d0d46e4973b13359af97822",
            "value": " 862k/862k [00:00&lt;00:00, 12.9MB/s]"
          }
        },
        "f14ab738fc7c422396ba56f2f178055f": {
          "model_module": "@jupyter-widgets/base",
          "model_name": "LayoutModel",
          "model_module_version": "1.2.0",
          "state": {
            "_model_module": "@jupyter-widgets/base",
            "_model_module_version": "1.2.0",
            "_model_name": "LayoutModel",
            "_view_count": null,
            "_view_module": "@jupyter-widgets/base",
            "_view_module_version": "1.2.0",
            "_view_name": "LayoutView",
            "align_content": null,
            "align_items": null,
            "align_self": null,
            "border": null,
            "bottom": null,
            "display": null,
            "flex": null,
            "flex_flow": null,
            "grid_area": null,
            "grid_auto_columns": null,
            "grid_auto_flow": null,
            "grid_auto_rows": null,
            "grid_column": null,
            "grid_gap": null,
            "grid_row": null,
            "grid_template_areas": null,
            "grid_template_columns": null,
            "grid_template_rows": null,
            "height": null,
            "justify_content": null,
            "justify_items": null,
            "left": null,
            "margin": null,
            "max_height": null,
            "max_width": null,
            "min_height": null,
            "min_width": null,
            "object_fit": null,
            "object_position": null,
            "order": null,
            "overflow": null,
            "overflow_x": null,
            "overflow_y": null,
            "padding": null,
            "right": null,
            "top": null,
            "visibility": null,
            "width": null
          }
        },
        "910901c2da214627ac5a644111f2fc8b": {
          "model_module": "@jupyter-widgets/base",
          "model_name": "LayoutModel",
          "model_module_version": "1.2.0",
          "state": {
            "_model_module": "@jupyter-widgets/base",
            "_model_module_version": "1.2.0",
            "_model_name": "LayoutModel",
            "_view_count": null,
            "_view_module": "@jupyter-widgets/base",
            "_view_module_version": "1.2.0",
            "_view_name": "LayoutView",
            "align_content": null,
            "align_items": null,
            "align_self": null,
            "border": null,
            "bottom": null,
            "display": null,
            "flex": null,
            "flex_flow": null,
            "grid_area": null,
            "grid_auto_columns": null,
            "grid_auto_flow": null,
            "grid_auto_rows": null,
            "grid_column": null,
            "grid_gap": null,
            "grid_row": null,
            "grid_template_areas": null,
            "grid_template_columns": null,
            "grid_template_rows": null,
            "height": null,
            "justify_content": null,
            "justify_items": null,
            "left": null,
            "margin": null,
            "max_height": null,
            "max_width": null,
            "min_height": null,
            "min_width": null,
            "object_fit": null,
            "object_position": null,
            "order": null,
            "overflow": null,
            "overflow_x": null,
            "overflow_y": null,
            "padding": null,
            "right": null,
            "top": null,
            "visibility": null,
            "width": null
          }
        },
        "3d899bf5d0af48f9a886d5a8a716d42e": {
          "model_module": "@jupyter-widgets/controls",
          "model_name": "DescriptionStyleModel",
          "model_module_version": "1.5.0",
          "state": {
            "_model_module": "@jupyter-widgets/controls",
            "_model_module_version": "1.5.0",
            "_model_name": "DescriptionStyleModel",
            "_view_count": null,
            "_view_module": "@jupyter-widgets/base",
            "_view_module_version": "1.2.0",
            "_view_name": "StyleView",
            "description_width": ""
          }
        },
        "b54047ac10e74b8481ab0095c553db20": {
          "model_module": "@jupyter-widgets/base",
          "model_name": "LayoutModel",
          "model_module_version": "1.2.0",
          "state": {
            "_model_module": "@jupyter-widgets/base",
            "_model_module_version": "1.2.0",
            "_model_name": "LayoutModel",
            "_view_count": null,
            "_view_module": "@jupyter-widgets/base",
            "_view_module_version": "1.2.0",
            "_view_name": "LayoutView",
            "align_content": null,
            "align_items": null,
            "align_self": null,
            "border": null,
            "bottom": null,
            "display": null,
            "flex": null,
            "flex_flow": null,
            "grid_area": null,
            "grid_auto_columns": null,
            "grid_auto_flow": null,
            "grid_auto_rows": null,
            "grid_column": null,
            "grid_gap": null,
            "grid_row": null,
            "grid_template_areas": null,
            "grid_template_columns": null,
            "grid_template_rows": null,
            "height": null,
            "justify_content": null,
            "justify_items": null,
            "left": null,
            "margin": null,
            "max_height": null,
            "max_width": null,
            "min_height": null,
            "min_width": null,
            "object_fit": null,
            "object_position": null,
            "order": null,
            "overflow": null,
            "overflow_x": null,
            "overflow_y": null,
            "padding": null,
            "right": null,
            "top": null,
            "visibility": null,
            "width": null
          }
        },
        "d81633e5079e408eb89bd111c888ee1e": {
          "model_module": "@jupyter-widgets/controls",
          "model_name": "ProgressStyleModel",
          "model_module_version": "1.5.0",
          "state": {
            "_model_module": "@jupyter-widgets/controls",
            "_model_module_version": "1.5.0",
            "_model_name": "ProgressStyleModel",
            "_view_count": null,
            "_view_module": "@jupyter-widgets/base",
            "_view_module_version": "1.2.0",
            "_view_name": "StyleView",
            "bar_color": null,
            "description_width": ""
          }
        },
        "b986d9171d4b49ed937e5828b131bc41": {
          "model_module": "@jupyter-widgets/base",
          "model_name": "LayoutModel",
          "model_module_version": "1.2.0",
          "state": {
            "_model_module": "@jupyter-widgets/base",
            "_model_module_version": "1.2.0",
            "_model_name": "LayoutModel",
            "_view_count": null,
            "_view_module": "@jupyter-widgets/base",
            "_view_module_version": "1.2.0",
            "_view_name": "LayoutView",
            "align_content": null,
            "align_items": null,
            "align_self": null,
            "border": null,
            "bottom": null,
            "display": null,
            "flex": null,
            "flex_flow": null,
            "grid_area": null,
            "grid_auto_columns": null,
            "grid_auto_flow": null,
            "grid_auto_rows": null,
            "grid_column": null,
            "grid_gap": null,
            "grid_row": null,
            "grid_template_areas": null,
            "grid_template_columns": null,
            "grid_template_rows": null,
            "height": null,
            "justify_content": null,
            "justify_items": null,
            "left": null,
            "margin": null,
            "max_height": null,
            "max_width": null,
            "min_height": null,
            "min_width": null,
            "object_fit": null,
            "object_position": null,
            "order": null,
            "overflow": null,
            "overflow_x": null,
            "overflow_y": null,
            "padding": null,
            "right": null,
            "top": null,
            "visibility": null,
            "width": null
          }
        },
        "e142703d5d0d46e4973b13359af97822": {
          "model_module": "@jupyter-widgets/controls",
          "model_name": "DescriptionStyleModel",
          "model_module_version": "1.5.0",
          "state": {
            "_model_module": "@jupyter-widgets/controls",
            "_model_module_version": "1.5.0",
            "_model_name": "DescriptionStyleModel",
            "_view_count": null,
            "_view_module": "@jupyter-widgets/base",
            "_view_module_version": "1.2.0",
            "_view_name": "StyleView",
            "description_width": ""
          }
        },
        "5082f61ed2334e73bfbe6b2a94f437fb": {
          "model_module": "@jupyter-widgets/controls",
          "model_name": "HBoxModel",
          "model_module_version": "1.5.0",
          "state": {
            "_dom_classes": [],
            "_model_module": "@jupyter-widgets/controls",
            "_model_module_version": "1.5.0",
            "_model_name": "HBoxModel",
            "_view_count": null,
            "_view_module": "@jupyter-widgets/controls",
            "_view_module_version": "1.5.0",
            "_view_name": "HBoxView",
            "box_style": "",
            "children": [
              "IPY_MODEL_6232aa6364d3425b88f2bf269c003475",
              "IPY_MODEL_fe77b5f6a8b9464f9c9c9868cf974776",
              "IPY_MODEL_c7454663cf12443f99864c51b2aad928"
            ],
            "layout": "IPY_MODEL_32f9955ca3fa404ba354aeb01796ff5b"
          }
        },
        "6232aa6364d3425b88f2bf269c003475": {
          "model_module": "@jupyter-widgets/controls",
          "model_name": "HTMLModel",
          "model_module_version": "1.5.0",
          "state": {
            "_dom_classes": [],
            "_model_module": "@jupyter-widgets/controls",
            "_model_module_version": "1.5.0",
            "_model_name": "HTMLModel",
            "_view_count": null,
            "_view_module": "@jupyter-widgets/controls",
            "_view_module_version": "1.5.0",
            "_view_name": "HTMLView",
            "description": "",
            "description_tooltip": null,
            "layout": "IPY_MODEL_1caaded91f2840299ebfd6908a994ebe",
            "placeholder": "​",
            "style": "IPY_MODEL_422f3eddb54243ffa1d701d145bbbf3f",
            "value": "merges.txt: 100%"
          }
        },
        "fe77b5f6a8b9464f9c9c9868cf974776": {
          "model_module": "@jupyter-widgets/controls",
          "model_name": "FloatProgressModel",
          "model_module_version": "1.5.0",
          "state": {
            "_dom_classes": [],
            "_model_module": "@jupyter-widgets/controls",
            "_model_module_version": "1.5.0",
            "_model_name": "FloatProgressModel",
            "_view_count": null,
            "_view_module": "@jupyter-widgets/controls",
            "_view_module_version": "1.5.0",
            "_view_name": "ProgressView",
            "bar_style": "success",
            "description": "",
            "description_tooltip": null,
            "layout": "IPY_MODEL_d9b2d2b4ad0c4794b5385b5d93a225e9",
            "max": 524657,
            "min": 0,
            "orientation": "horizontal",
            "style": "IPY_MODEL_b721762fa6c840dfbafb413ae6338bc0",
            "value": 524657
          }
        },
        "c7454663cf12443f99864c51b2aad928": {
          "model_module": "@jupyter-widgets/controls",
          "model_name": "HTMLModel",
          "model_module_version": "1.5.0",
          "state": {
            "_dom_classes": [],
            "_model_module": "@jupyter-widgets/controls",
            "_model_module_version": "1.5.0",
            "_model_name": "HTMLModel",
            "_view_count": null,
            "_view_module": "@jupyter-widgets/controls",
            "_view_module_version": "1.5.0",
            "_view_name": "HTMLView",
            "description": "",
            "description_tooltip": null,
            "layout": "IPY_MODEL_f5c379e700ca4008a981ffd071216690",
            "placeholder": "​",
            "style": "IPY_MODEL_7f7ad0bf311e4250b4a5de06c142bb16",
            "value": " 525k/525k [00:00&lt;00:00, 24.5MB/s]"
          }
        },
        "32f9955ca3fa404ba354aeb01796ff5b": {
          "model_module": "@jupyter-widgets/base",
          "model_name": "LayoutModel",
          "model_module_version": "1.2.0",
          "state": {
            "_model_module": "@jupyter-widgets/base",
            "_model_module_version": "1.2.0",
            "_model_name": "LayoutModel",
            "_view_count": null,
            "_view_module": "@jupyter-widgets/base",
            "_view_module_version": "1.2.0",
            "_view_name": "LayoutView",
            "align_content": null,
            "align_items": null,
            "align_self": null,
            "border": null,
            "bottom": null,
            "display": null,
            "flex": null,
            "flex_flow": null,
            "grid_area": null,
            "grid_auto_columns": null,
            "grid_auto_flow": null,
            "grid_auto_rows": null,
            "grid_column": null,
            "grid_gap": null,
            "grid_row": null,
            "grid_template_areas": null,
            "grid_template_columns": null,
            "grid_template_rows": null,
            "height": null,
            "justify_content": null,
            "justify_items": null,
            "left": null,
            "margin": null,
            "max_height": null,
            "max_width": null,
            "min_height": null,
            "min_width": null,
            "object_fit": null,
            "object_position": null,
            "order": null,
            "overflow": null,
            "overflow_x": null,
            "overflow_y": null,
            "padding": null,
            "right": null,
            "top": null,
            "visibility": null,
            "width": null
          }
        },
        "1caaded91f2840299ebfd6908a994ebe": {
          "model_module": "@jupyter-widgets/base",
          "model_name": "LayoutModel",
          "model_module_version": "1.2.0",
          "state": {
            "_model_module": "@jupyter-widgets/base",
            "_model_module_version": "1.2.0",
            "_model_name": "LayoutModel",
            "_view_count": null,
            "_view_module": "@jupyter-widgets/base",
            "_view_module_version": "1.2.0",
            "_view_name": "LayoutView",
            "align_content": null,
            "align_items": null,
            "align_self": null,
            "border": null,
            "bottom": null,
            "display": null,
            "flex": null,
            "flex_flow": null,
            "grid_area": null,
            "grid_auto_columns": null,
            "grid_auto_flow": null,
            "grid_auto_rows": null,
            "grid_column": null,
            "grid_gap": null,
            "grid_row": null,
            "grid_template_areas": null,
            "grid_template_columns": null,
            "grid_template_rows": null,
            "height": null,
            "justify_content": null,
            "justify_items": null,
            "left": null,
            "margin": null,
            "max_height": null,
            "max_width": null,
            "min_height": null,
            "min_width": null,
            "object_fit": null,
            "object_position": null,
            "order": null,
            "overflow": null,
            "overflow_x": null,
            "overflow_y": null,
            "padding": null,
            "right": null,
            "top": null,
            "visibility": null,
            "width": null
          }
        },
        "422f3eddb54243ffa1d701d145bbbf3f": {
          "model_module": "@jupyter-widgets/controls",
          "model_name": "DescriptionStyleModel",
          "model_module_version": "1.5.0",
          "state": {
            "_model_module": "@jupyter-widgets/controls",
            "_model_module_version": "1.5.0",
            "_model_name": "DescriptionStyleModel",
            "_view_count": null,
            "_view_module": "@jupyter-widgets/base",
            "_view_module_version": "1.2.0",
            "_view_name": "StyleView",
            "description_width": ""
          }
        },
        "d9b2d2b4ad0c4794b5385b5d93a225e9": {
          "model_module": "@jupyter-widgets/base",
          "model_name": "LayoutModel",
          "model_module_version": "1.2.0",
          "state": {
            "_model_module": "@jupyter-widgets/base",
            "_model_module_version": "1.2.0",
            "_model_name": "LayoutModel",
            "_view_count": null,
            "_view_module": "@jupyter-widgets/base",
            "_view_module_version": "1.2.0",
            "_view_name": "LayoutView",
            "align_content": null,
            "align_items": null,
            "align_self": null,
            "border": null,
            "bottom": null,
            "display": null,
            "flex": null,
            "flex_flow": null,
            "grid_area": null,
            "grid_auto_columns": null,
            "grid_auto_flow": null,
            "grid_auto_rows": null,
            "grid_column": null,
            "grid_gap": null,
            "grid_row": null,
            "grid_template_areas": null,
            "grid_template_columns": null,
            "grid_template_rows": null,
            "height": null,
            "justify_content": null,
            "justify_items": null,
            "left": null,
            "margin": null,
            "max_height": null,
            "max_width": null,
            "min_height": null,
            "min_width": null,
            "object_fit": null,
            "object_position": null,
            "order": null,
            "overflow": null,
            "overflow_x": null,
            "overflow_y": null,
            "padding": null,
            "right": null,
            "top": null,
            "visibility": null,
            "width": null
          }
        },
        "b721762fa6c840dfbafb413ae6338bc0": {
          "model_module": "@jupyter-widgets/controls",
          "model_name": "ProgressStyleModel",
          "model_module_version": "1.5.0",
          "state": {
            "_model_module": "@jupyter-widgets/controls",
            "_model_module_version": "1.5.0",
            "_model_name": "ProgressStyleModel",
            "_view_count": null,
            "_view_module": "@jupyter-widgets/base",
            "_view_module_version": "1.2.0",
            "_view_name": "StyleView",
            "bar_color": null,
            "description_width": ""
          }
        },
        "f5c379e700ca4008a981ffd071216690": {
          "model_module": "@jupyter-widgets/base",
          "model_name": "LayoutModel",
          "model_module_version": "1.2.0",
          "state": {
            "_model_module": "@jupyter-widgets/base",
            "_model_module_version": "1.2.0",
            "_model_name": "LayoutModel",
            "_view_count": null,
            "_view_module": "@jupyter-widgets/base",
            "_view_module_version": "1.2.0",
            "_view_name": "LayoutView",
            "align_content": null,
            "align_items": null,
            "align_self": null,
            "border": null,
            "bottom": null,
            "display": null,
            "flex": null,
            "flex_flow": null,
            "grid_area": null,
            "grid_auto_columns": null,
            "grid_auto_flow": null,
            "grid_auto_rows": null,
            "grid_column": null,
            "grid_gap": null,
            "grid_row": null,
            "grid_template_areas": null,
            "grid_template_columns": null,
            "grid_template_rows": null,
            "height": null,
            "justify_content": null,
            "justify_items": null,
            "left": null,
            "margin": null,
            "max_height": null,
            "max_width": null,
            "min_height": null,
            "min_width": null,
            "object_fit": null,
            "object_position": null,
            "order": null,
            "overflow": null,
            "overflow_x": null,
            "overflow_y": null,
            "padding": null,
            "right": null,
            "top": null,
            "visibility": null,
            "width": null
          }
        },
        "7f7ad0bf311e4250b4a5de06c142bb16": {
          "model_module": "@jupyter-widgets/controls",
          "model_name": "DescriptionStyleModel",
          "model_module_version": "1.5.0",
          "state": {
            "_model_module": "@jupyter-widgets/controls",
            "_model_module_version": "1.5.0",
            "_model_name": "DescriptionStyleModel",
            "_view_count": null,
            "_view_module": "@jupyter-widgets/base",
            "_view_module_version": "1.2.0",
            "_view_name": "StyleView",
            "description_width": ""
          }
        },
        "9050bfea27484ff28d84bfb0effa070d": {
          "model_module": "@jupyter-widgets/controls",
          "model_name": "HBoxModel",
          "model_module_version": "1.5.0",
          "state": {
            "_dom_classes": [],
            "_model_module": "@jupyter-widgets/controls",
            "_model_module_version": "1.5.0",
            "_model_name": "HBoxModel",
            "_view_count": null,
            "_view_module": "@jupyter-widgets/controls",
            "_view_module_version": "1.5.0",
            "_view_name": "HBoxView",
            "box_style": "",
            "children": [
              "IPY_MODEL_e44dcf297710417484076fbbea6eb7e8",
              "IPY_MODEL_e34991bdf41c47f49386cb8f49ddd13b",
              "IPY_MODEL_4f1ba2967c3b4016b414fe9dd35c0069"
            ],
            "layout": "IPY_MODEL_1035bad128384880a227a872473f47fb"
          }
        },
        "e44dcf297710417484076fbbea6eb7e8": {
          "model_module": "@jupyter-widgets/controls",
          "model_name": "HTMLModel",
          "model_module_version": "1.5.0",
          "state": {
            "_dom_classes": [],
            "_model_module": "@jupyter-widgets/controls",
            "_model_module_version": "1.5.0",
            "_model_name": "HTMLModel",
            "_view_count": null,
            "_view_module": "@jupyter-widgets/controls",
            "_view_module_version": "1.5.0",
            "_view_name": "HTMLView",
            "description": "",
            "description_tooltip": null,
            "layout": "IPY_MODEL_afd5627e36e04ef3bf2f6e5a4976f813",
            "placeholder": "​",
            "style": "IPY_MODEL_e7801fcee63e42869db1df54d853fff1",
            "value": "tokenizer.json: 100%"
          }
        },
        "e34991bdf41c47f49386cb8f49ddd13b": {
          "model_module": "@jupyter-widgets/controls",
          "model_name": "FloatProgressModel",
          "model_module_version": "1.5.0",
          "state": {
            "_dom_classes": [],
            "_model_module": "@jupyter-widgets/controls",
            "_model_module_version": "1.5.0",
            "_model_name": "FloatProgressModel",
            "_view_count": null,
            "_view_module": "@jupyter-widgets/controls",
            "_view_module_version": "1.5.0",
            "_view_name": "ProgressView",
            "bar_style": "success",
            "description": "",
            "description_tooltip": null,
            "layout": "IPY_MODEL_4362fdb9e07742f0ae7307eb3d81fe73",
            "max": 2224041,
            "min": 0,
            "orientation": "horizontal",
            "style": "IPY_MODEL_abdc81cf17b744cfac422201683d6046",
            "value": 2224041
          }
        },
        "4f1ba2967c3b4016b414fe9dd35c0069": {
          "model_module": "@jupyter-widgets/controls",
          "model_name": "HTMLModel",
          "model_module_version": "1.5.0",
          "state": {
            "_dom_classes": [],
            "_model_module": "@jupyter-widgets/controls",
            "_model_module_version": "1.5.0",
            "_model_name": "HTMLModel",
            "_view_count": null,
            "_view_module": "@jupyter-widgets/controls",
            "_view_module_version": "1.5.0",
            "_view_name": "HTMLView",
            "description": "",
            "description_tooltip": null,
            "layout": "IPY_MODEL_b9bfc1693dee4548941f2ba49fafe328",
            "placeholder": "​",
            "style": "IPY_MODEL_f8acd5d353a84f57b4b115f9b9cdc427",
            "value": " 2.22M/2.22M [00:00&lt;00:00, 11.4MB/s]"
          }
        },
        "1035bad128384880a227a872473f47fb": {
          "model_module": "@jupyter-widgets/base",
          "model_name": "LayoutModel",
          "model_module_version": "1.2.0",
          "state": {
            "_model_module": "@jupyter-widgets/base",
            "_model_module_version": "1.2.0",
            "_model_name": "LayoutModel",
            "_view_count": null,
            "_view_module": "@jupyter-widgets/base",
            "_view_module_version": "1.2.0",
            "_view_name": "LayoutView",
            "align_content": null,
            "align_items": null,
            "align_self": null,
            "border": null,
            "bottom": null,
            "display": null,
            "flex": null,
            "flex_flow": null,
            "grid_area": null,
            "grid_auto_columns": null,
            "grid_auto_flow": null,
            "grid_auto_rows": null,
            "grid_column": null,
            "grid_gap": null,
            "grid_row": null,
            "grid_template_areas": null,
            "grid_template_columns": null,
            "grid_template_rows": null,
            "height": null,
            "justify_content": null,
            "justify_items": null,
            "left": null,
            "margin": null,
            "max_height": null,
            "max_width": null,
            "min_height": null,
            "min_width": null,
            "object_fit": null,
            "object_position": null,
            "order": null,
            "overflow": null,
            "overflow_x": null,
            "overflow_y": null,
            "padding": null,
            "right": null,
            "top": null,
            "visibility": null,
            "width": null
          }
        },
        "afd5627e36e04ef3bf2f6e5a4976f813": {
          "model_module": "@jupyter-widgets/base",
          "model_name": "LayoutModel",
          "model_module_version": "1.2.0",
          "state": {
            "_model_module": "@jupyter-widgets/base",
            "_model_module_version": "1.2.0",
            "_model_name": "LayoutModel",
            "_view_count": null,
            "_view_module": "@jupyter-widgets/base",
            "_view_module_version": "1.2.0",
            "_view_name": "LayoutView",
            "align_content": null,
            "align_items": null,
            "align_self": null,
            "border": null,
            "bottom": null,
            "display": null,
            "flex": null,
            "flex_flow": null,
            "grid_area": null,
            "grid_auto_columns": null,
            "grid_auto_flow": null,
            "grid_auto_rows": null,
            "grid_column": null,
            "grid_gap": null,
            "grid_row": null,
            "grid_template_areas": null,
            "grid_template_columns": null,
            "grid_template_rows": null,
            "height": null,
            "justify_content": null,
            "justify_items": null,
            "left": null,
            "margin": null,
            "max_height": null,
            "max_width": null,
            "min_height": null,
            "min_width": null,
            "object_fit": null,
            "object_position": null,
            "order": null,
            "overflow": null,
            "overflow_x": null,
            "overflow_y": null,
            "padding": null,
            "right": null,
            "top": null,
            "visibility": null,
            "width": null
          }
        },
        "e7801fcee63e42869db1df54d853fff1": {
          "model_module": "@jupyter-widgets/controls",
          "model_name": "DescriptionStyleModel",
          "model_module_version": "1.5.0",
          "state": {
            "_model_module": "@jupyter-widgets/controls",
            "_model_module_version": "1.5.0",
            "_model_name": "DescriptionStyleModel",
            "_view_count": null,
            "_view_module": "@jupyter-widgets/base",
            "_view_module_version": "1.2.0",
            "_view_name": "StyleView",
            "description_width": ""
          }
        },
        "4362fdb9e07742f0ae7307eb3d81fe73": {
          "model_module": "@jupyter-widgets/base",
          "model_name": "LayoutModel",
          "model_module_version": "1.2.0",
          "state": {
            "_model_module": "@jupyter-widgets/base",
            "_model_module_version": "1.2.0",
            "_model_name": "LayoutModel",
            "_view_count": null,
            "_view_module": "@jupyter-widgets/base",
            "_view_module_version": "1.2.0",
            "_view_name": "LayoutView",
            "align_content": null,
            "align_items": null,
            "align_self": null,
            "border": null,
            "bottom": null,
            "display": null,
            "flex": null,
            "flex_flow": null,
            "grid_area": null,
            "grid_auto_columns": null,
            "grid_auto_flow": null,
            "grid_auto_rows": null,
            "grid_column": null,
            "grid_gap": null,
            "grid_row": null,
            "grid_template_areas": null,
            "grid_template_columns": null,
            "grid_template_rows": null,
            "height": null,
            "justify_content": null,
            "justify_items": null,
            "left": null,
            "margin": null,
            "max_height": null,
            "max_width": null,
            "min_height": null,
            "min_width": null,
            "object_fit": null,
            "object_position": null,
            "order": null,
            "overflow": null,
            "overflow_x": null,
            "overflow_y": null,
            "padding": null,
            "right": null,
            "top": null,
            "visibility": null,
            "width": null
          }
        },
        "abdc81cf17b744cfac422201683d6046": {
          "model_module": "@jupyter-widgets/controls",
          "model_name": "ProgressStyleModel",
          "model_module_version": "1.5.0",
          "state": {
            "_model_module": "@jupyter-widgets/controls",
            "_model_module_version": "1.5.0",
            "_model_name": "ProgressStyleModel",
            "_view_count": null,
            "_view_module": "@jupyter-widgets/base",
            "_view_module_version": "1.2.0",
            "_view_name": "StyleView",
            "bar_color": null,
            "description_width": ""
          }
        },
        "b9bfc1693dee4548941f2ba49fafe328": {
          "model_module": "@jupyter-widgets/base",
          "model_name": "LayoutModel",
          "model_module_version": "1.2.0",
          "state": {
            "_model_module": "@jupyter-widgets/base",
            "_model_module_version": "1.2.0",
            "_model_name": "LayoutModel",
            "_view_count": null,
            "_view_module": "@jupyter-widgets/base",
            "_view_module_version": "1.2.0",
            "_view_name": "LayoutView",
            "align_content": null,
            "align_items": null,
            "align_self": null,
            "border": null,
            "bottom": null,
            "display": null,
            "flex": null,
            "flex_flow": null,
            "grid_area": null,
            "grid_auto_columns": null,
            "grid_auto_flow": null,
            "grid_auto_rows": null,
            "grid_column": null,
            "grid_gap": null,
            "grid_row": null,
            "grid_template_areas": null,
            "grid_template_columns": null,
            "grid_template_rows": null,
            "height": null,
            "justify_content": null,
            "justify_items": null,
            "left": null,
            "margin": null,
            "max_height": null,
            "max_width": null,
            "min_height": null,
            "min_width": null,
            "object_fit": null,
            "object_position": null,
            "order": null,
            "overflow": null,
            "overflow_x": null,
            "overflow_y": null,
            "padding": null,
            "right": null,
            "top": null,
            "visibility": null,
            "width": null
          }
        },
        "f8acd5d353a84f57b4b115f9b9cdc427": {
          "model_module": "@jupyter-widgets/controls",
          "model_name": "DescriptionStyleModel",
          "model_module_version": "1.5.0",
          "state": {
            "_model_module": "@jupyter-widgets/controls",
            "_model_module_version": "1.5.0",
            "_model_name": "DescriptionStyleModel",
            "_view_count": null,
            "_view_module": "@jupyter-widgets/base",
            "_view_module_version": "1.2.0",
            "_view_name": "StyleView",
            "description_width": ""
          }
        },
        "f5ba1f5a1545402fa8ea28c1709ef8a4": {
          "model_module": "@jupyter-widgets/controls",
          "model_name": "HBoxModel",
          "model_module_version": "1.5.0",
          "state": {
            "_dom_classes": [],
            "_model_module": "@jupyter-widgets/controls",
            "_model_module_version": "1.5.0",
            "_model_name": "HBoxModel",
            "_view_count": null,
            "_view_module": "@jupyter-widgets/controls",
            "_view_module_version": "1.5.0",
            "_view_name": "HBoxView",
            "box_style": "",
            "children": [
              "IPY_MODEL_af4860f47cf4498e87d2d406e36a3a27",
              "IPY_MODEL_182b0292cd004e54b34a4376beecd7b1",
              "IPY_MODEL_f0815304d7814816820f9fe526754732"
            ],
            "layout": "IPY_MODEL_8262536471134fa5b8abb39d6a9e9b9f"
          }
        },
        "af4860f47cf4498e87d2d406e36a3a27": {
          "model_module": "@jupyter-widgets/controls",
          "model_name": "HTMLModel",
          "model_module_version": "1.5.0",
          "state": {
            "_dom_classes": [],
            "_model_module": "@jupyter-widgets/controls",
            "_model_module_version": "1.5.0",
            "_model_name": "HTMLModel",
            "_view_count": null,
            "_view_module": "@jupyter-widgets/controls",
            "_view_module_version": "1.5.0",
            "_view_name": "HTMLView",
            "description": "",
            "description_tooltip": null,
            "layout": "IPY_MODEL_1795c34eaea140cdb24dd773ee6bda42",
            "placeholder": "​",
            "style": "IPY_MODEL_ee9447d3936f4e199a166ac2545d3e88",
            "value": "special_tokens_map.json: 100%"
          }
        },
        "182b0292cd004e54b34a4376beecd7b1": {
          "model_module": "@jupyter-widgets/controls",
          "model_name": "FloatProgressModel",
          "model_module_version": "1.5.0",
          "state": {
            "_dom_classes": [],
            "_model_module": "@jupyter-widgets/controls",
            "_model_module_version": "1.5.0",
            "_model_name": "FloatProgressModel",
            "_view_count": null,
            "_view_module": "@jupyter-widgets/controls",
            "_view_module_version": "1.5.0",
            "_view_name": "ProgressView",
            "bar_style": "success",
            "description": "",
            "description_tooltip": null,
            "layout": "IPY_MODEL_49b063e89f30404ba679b932f9c8b15a",
            "max": 389,
            "min": 0,
            "orientation": "horizontal",
            "style": "IPY_MODEL_b731fc6d9781497eb579bd70dd29a903",
            "value": 389
          }
        },
        "f0815304d7814816820f9fe526754732": {
          "model_module": "@jupyter-widgets/controls",
          "model_name": "HTMLModel",
          "model_module_version": "1.5.0",
          "state": {
            "_dom_classes": [],
            "_model_module": "@jupyter-widgets/controls",
            "_model_module_version": "1.5.0",
            "_model_name": "HTMLModel",
            "_view_count": null,
            "_view_module": "@jupyter-widgets/controls",
            "_view_module_version": "1.5.0",
            "_view_name": "HTMLView",
            "description": "",
            "description_tooltip": null,
            "layout": "IPY_MODEL_bc47c5cf43de43b0a00bcf9a80920a95",
            "placeholder": "​",
            "style": "IPY_MODEL_15e4a450f9c04dce8a8bf835e83c708f",
            "value": " 389/389 [00:00&lt;00:00, 15.3kB/s]"
          }
        },
        "8262536471134fa5b8abb39d6a9e9b9f": {
          "model_module": "@jupyter-widgets/base",
          "model_name": "LayoutModel",
          "model_module_version": "1.2.0",
          "state": {
            "_model_module": "@jupyter-widgets/base",
            "_model_module_version": "1.2.0",
            "_model_name": "LayoutModel",
            "_view_count": null,
            "_view_module": "@jupyter-widgets/base",
            "_view_module_version": "1.2.0",
            "_view_name": "LayoutView",
            "align_content": null,
            "align_items": null,
            "align_self": null,
            "border": null,
            "bottom": null,
            "display": null,
            "flex": null,
            "flex_flow": null,
            "grid_area": null,
            "grid_auto_columns": null,
            "grid_auto_flow": null,
            "grid_auto_rows": null,
            "grid_column": null,
            "grid_gap": null,
            "grid_row": null,
            "grid_template_areas": null,
            "grid_template_columns": null,
            "grid_template_rows": null,
            "height": null,
            "justify_content": null,
            "justify_items": null,
            "left": null,
            "margin": null,
            "max_height": null,
            "max_width": null,
            "min_height": null,
            "min_width": null,
            "object_fit": null,
            "object_position": null,
            "order": null,
            "overflow": null,
            "overflow_x": null,
            "overflow_y": null,
            "padding": null,
            "right": null,
            "top": null,
            "visibility": null,
            "width": null
          }
        },
        "1795c34eaea140cdb24dd773ee6bda42": {
          "model_module": "@jupyter-widgets/base",
          "model_name": "LayoutModel",
          "model_module_version": "1.2.0",
          "state": {
            "_model_module": "@jupyter-widgets/base",
            "_model_module_version": "1.2.0",
            "_model_name": "LayoutModel",
            "_view_count": null,
            "_view_module": "@jupyter-widgets/base",
            "_view_module_version": "1.2.0",
            "_view_name": "LayoutView",
            "align_content": null,
            "align_items": null,
            "align_self": null,
            "border": null,
            "bottom": null,
            "display": null,
            "flex": null,
            "flex_flow": null,
            "grid_area": null,
            "grid_auto_columns": null,
            "grid_auto_flow": null,
            "grid_auto_rows": null,
            "grid_column": null,
            "grid_gap": null,
            "grid_row": null,
            "grid_template_areas": null,
            "grid_template_columns": null,
            "grid_template_rows": null,
            "height": null,
            "justify_content": null,
            "justify_items": null,
            "left": null,
            "margin": null,
            "max_height": null,
            "max_width": null,
            "min_height": null,
            "min_width": null,
            "object_fit": null,
            "object_position": null,
            "order": null,
            "overflow": null,
            "overflow_x": null,
            "overflow_y": null,
            "padding": null,
            "right": null,
            "top": null,
            "visibility": null,
            "width": null
          }
        },
        "ee9447d3936f4e199a166ac2545d3e88": {
          "model_module": "@jupyter-widgets/controls",
          "model_name": "DescriptionStyleModel",
          "model_module_version": "1.5.0",
          "state": {
            "_model_module": "@jupyter-widgets/controls",
            "_model_module_version": "1.5.0",
            "_model_name": "DescriptionStyleModel",
            "_view_count": null,
            "_view_module": "@jupyter-widgets/base",
            "_view_module_version": "1.2.0",
            "_view_name": "StyleView",
            "description_width": ""
          }
        },
        "49b063e89f30404ba679b932f9c8b15a": {
          "model_module": "@jupyter-widgets/base",
          "model_name": "LayoutModel",
          "model_module_version": "1.2.0",
          "state": {
            "_model_module": "@jupyter-widgets/base",
            "_model_module_version": "1.2.0",
            "_model_name": "LayoutModel",
            "_view_count": null,
            "_view_module": "@jupyter-widgets/base",
            "_view_module_version": "1.2.0",
            "_view_name": "LayoutView",
            "align_content": null,
            "align_items": null,
            "align_self": null,
            "border": null,
            "bottom": null,
            "display": null,
            "flex": null,
            "flex_flow": null,
            "grid_area": null,
            "grid_auto_columns": null,
            "grid_auto_flow": null,
            "grid_auto_rows": null,
            "grid_column": null,
            "grid_gap": null,
            "grid_row": null,
            "grid_template_areas": null,
            "grid_template_columns": null,
            "grid_template_rows": null,
            "height": null,
            "justify_content": null,
            "justify_items": null,
            "left": null,
            "margin": null,
            "max_height": null,
            "max_width": null,
            "min_height": null,
            "min_width": null,
            "object_fit": null,
            "object_position": null,
            "order": null,
            "overflow": null,
            "overflow_x": null,
            "overflow_y": null,
            "padding": null,
            "right": null,
            "top": null,
            "visibility": null,
            "width": null
          }
        },
        "b731fc6d9781497eb579bd70dd29a903": {
          "model_module": "@jupyter-widgets/controls",
          "model_name": "ProgressStyleModel",
          "model_module_version": "1.5.0",
          "state": {
            "_model_module": "@jupyter-widgets/controls",
            "_model_module_version": "1.5.0",
            "_model_name": "ProgressStyleModel",
            "_view_count": null,
            "_view_module": "@jupyter-widgets/base",
            "_view_module_version": "1.2.0",
            "_view_name": "StyleView",
            "bar_color": null,
            "description_width": ""
          }
        },
        "bc47c5cf43de43b0a00bcf9a80920a95": {
          "model_module": "@jupyter-widgets/base",
          "model_name": "LayoutModel",
          "model_module_version": "1.2.0",
          "state": {
            "_model_module": "@jupyter-widgets/base",
            "_model_module_version": "1.2.0",
            "_model_name": "LayoutModel",
            "_view_count": null,
            "_view_module": "@jupyter-widgets/base",
            "_view_module_version": "1.2.0",
            "_view_name": "LayoutView",
            "align_content": null,
            "align_items": null,
            "align_self": null,
            "border": null,
            "bottom": null,
            "display": null,
            "flex": null,
            "flex_flow": null,
            "grid_area": null,
            "grid_auto_columns": null,
            "grid_auto_flow": null,
            "grid_auto_rows": null,
            "grid_column": null,
            "grid_gap": null,
            "grid_row": null,
            "grid_template_areas": null,
            "grid_template_columns": null,
            "grid_template_rows": null,
            "height": null,
            "justify_content": null,
            "justify_items": null,
            "left": null,
            "margin": null,
            "max_height": null,
            "max_width": null,
            "min_height": null,
            "min_width": null,
            "object_fit": null,
            "object_position": null,
            "order": null,
            "overflow": null,
            "overflow_x": null,
            "overflow_y": null,
            "padding": null,
            "right": null,
            "top": null,
            "visibility": null,
            "width": null
          }
        },
        "15e4a450f9c04dce8a8bf835e83c708f": {
          "model_module": "@jupyter-widgets/controls",
          "model_name": "DescriptionStyleModel",
          "model_module_version": "1.5.0",
          "state": {
            "_model_module": "@jupyter-widgets/controls",
            "_model_module_version": "1.5.0",
            "_model_name": "DescriptionStyleModel",
            "_view_count": null,
            "_view_module": "@jupyter-widgets/base",
            "_view_module_version": "1.2.0",
            "_view_name": "StyleView",
            "description_width": ""
          }
        }
      }
    }
  },
  "cells": [
    {
      "cell_type": "markdown",
      "source": [
        "If you want to train/test the model, run the following modules:\n",
        "- Dependencies (ALL)\n",
        "- CLIP FINETUNE: Prepare Data, Neural Network (ignore import data and generate embeddings)\n",
        "  "
      ],
      "metadata": {
        "id": "rlsEnnPkinUc"
      }
    },
    {
      "cell_type": "markdown",
      "source": [
        "# Dependencies"
      ],
      "metadata": {
        "id": "R7vFT6XOa5ov"
      }
    },
    {
      "cell_type": "code",
      "source": [
        "from google.colab import drive\n",
        "drive.mount('/content/drive')\n",
        "\n",
        "from tqdm.auto import tqdm\n",
        "import kagglehub\n",
        "import matplotlib.pyplot as plt\n",
        "import os\n",
        "import torch\n",
        "import pandas as pd\n",
        "from tqdm import tqdm\n",
        "from PIL import Image\n",
        "from transformers import CLIPProcessor, CLIPModel\n",
        "import torchvision\n",
        "from torch.utils.data import Dataset, DataLoader\n",
        "import math\n",
        "from tqdm.auto import tqdm\n",
        "import torch.nn as nn\n",
        "from pathlib import Path\n",
        "\n",
        "\n",
        "device = \"cuda\" if torch.cuda.is_available() else \"cpu\"\n",
        "print(f\"Using device: {device}\")"
      ],
      "metadata": {
        "id": "vqs7ilFlzuNF",
        "outputId": "c81a99a9-dfe9-48c2-f7e1-cafc6ffdaac3",
        "colab": {
          "base_uri": "https://localhost:8080/"
        }
      },
      "execution_count": null,
      "outputs": [
        {
          "output_type": "stream",
          "name": "stdout",
          "text": [
            "Mounted at /content/drive\n",
            "Using device: cuda\n"
          ]
        }
      ]
    },
    {
      "cell_type": "markdown",
      "source": [
        "# CLIP FINETUNE"
      ],
      "metadata": {
        "id": "WgZu-Xa_qHt-"
      }
    },
    {
      "cell_type": "markdown",
      "source": [
        "Start from prepare data, No need to run \"Import data\" and"
      ],
      "metadata": {
        "id": "XM5EWyjCbUM4"
      }
    },
    {
      "cell_type": "markdown",
      "source": [
        "## Import Data from Kaggle"
      ],
      "metadata": {
        "id": "Jsq1w9i52MRb"
      }
    },
    {
      "cell_type": "code",
      "source": [
        "# Download latest version\n",
        "path = kagglehub.dataset_download(\"birdy654/cifake-real-and-ai-generated-synthetic-images\")\n",
        "\n",
        "print(\"Path to dataset files:\", path)\n",
        "\n",
        "\n",
        "# IMPORTANT: RUN THIS CELL IN ORDER TO IMPORT YOUR KAGGLE DATA SOURCES,\n",
        "# THEN FEEL FREE TO DELETE THIS CELL.\n",
        "# NOTE: THIS NOTEBOOK ENVIRONMENT DIFFERS FROM KAGGLE'S PYTHON\n",
        "# ENVIRONMENT SO THERE MAY BE MISSING LIBRARIES USED BY YOUR\n",
        "# NOTEBOOK.\n",
        "birdy654_cifake_real_and_ai_generated_synthetic_images_path = kagglehub.dataset_download('birdy654/cifake-real-and-ai-generated-synthetic-images')\n",
        "\n",
        "print('Data source import complete.')\n",
        "\n",
        "import pandas as pd\n",
        "\n",
        "#dataset_dir = \"/kaggle/input/cifake-real-and-ai-generated-synthetic-images/\" # For Kaggle notebooks. If you run locally, point this line to the CIFAKE directory\n",
        "dataset_dir = \"/root/.cache/kagglehub/datasets/birdy654/cifake-real-and-ai-generated-synthetic-images/versions/3\" # For Kaggle notebooks. If you run locally, point this line to the CIFAKE directory\n",
        "print(\"Loading dataset from: \" + dataset_dir)\n",
        "\n",
        "\n",
        "# use https://huggingface.co/docs/datasets/image_load for reference\n",
        "\n",
        "# Import necessary libraries\n",
        "image_dict = {}\n",
        "\n",
        "# Define the list of file names\n",
        "from pathlib import Path\n",
        "from tqdm import tqdm\n",
        "import os\n",
        "# Initialize empty lists to store file names and labels\n",
        "file_names = []\n",
        "labels = []\n",
        "\n",
        "# Iterate through all image files in the specified directory\n",
        "for file in sorted((Path('/root/.cache/kagglehub/datasets/birdy654/cifake-real-and-ai-generated-synthetic-images/versions/3').glob('*/*/*.*'))):\n",
        "    label = str(file).split('/')[-2]  # Extract the label from the file path\n",
        "    labels.append(label)  # Add the label to the list\n",
        "    file_names.append(str(file))  # Add the file path to the list\n",
        "\n",
        "# Print the total number of file names and labels\n",
        "print(len(file_names), len(labels))\n",
        "\n",
        "# Create a pandas dataframe from the collected file names and labels\n",
        "df = pd.DataFrame.from_dict({\"image\": file_names, \"label\": labels})\n",
        "print(df.shape)\n",
        "\n",
        "# from sklearn.utils import shuffle\n",
        "\n",
        "# Shuffle the DataFrame\n",
        "#df_shuffled = shuffle(df)\n",
        "df_shuffled = df.sample(frac=1, random_state=42).reset_index(drop=True)\n",
        "\n",
        "df_train = df_shuffled[:int(0.8*len(df_shuffled))]\n",
        "df_test = df_shuffled[int(0.8*len(df_shuffled)):]"
      ],
      "metadata": {
        "colab": {
          "base_uri": "https://localhost:8080/"
        },
        "id": "Qbvj-sXJ2MEI",
        "outputId": "3fb4851a-9238-4bc3-ffe6-61f4f1d04f37"
      },
      "execution_count": null,
      "outputs": [
        {
          "output_type": "stream",
          "name": "stdout",
          "text": [
            "Downloading from https://www.kaggle.com/api/v1/datasets/download/birdy654/cifake-real-and-ai-generated-synthetic-images?dataset_version_number=3...\n"
          ]
        },
        {
          "output_type": "stream",
          "name": "stderr",
          "text": [
            "100%|██████████| 105M/105M [00:00<00:00, 144MB/s]"
          ]
        },
        {
          "output_type": "stream",
          "name": "stdout",
          "text": [
            "Extracting files...\n"
          ]
        },
        {
          "output_type": "stream",
          "name": "stderr",
          "text": [
            "\n"
          ]
        },
        {
          "output_type": "stream",
          "name": "stdout",
          "text": [
            "Path to dataset files: /root/.cache/kagglehub/datasets/birdy654/cifake-real-and-ai-generated-synthetic-images/versions/3\n",
            "Data source import complete.\n",
            "Loading dataset from: /root/.cache/kagglehub/datasets/birdy654/cifake-real-and-ai-generated-synthetic-images/versions/3\n",
            "120000 120000\n",
            "(120000, 2)\n"
          ]
        }
      ]
    },
    {
      "cell_type": "code",
      "source": [
        "df_test.shape"
      ],
      "metadata": {
        "colab": {
          "base_uri": "https://localhost:8080/"
        },
        "id": "_ds8qd2uczSE",
        "outputId": "cce55716-a629-4f14-9dc8-05abe01fe6e2"
      },
      "execution_count": null,
      "outputs": [
        {
          "output_type": "execute_result",
          "data": {
            "text/plain": [
              "(24000, 2)"
            ]
          },
          "metadata": {},
          "execution_count": 3
        }
      ]
    },
    {
      "cell_type": "code",
      "source": [
        "df_train.to_csv(\"df_train_clip.csv\", index=False)\n",
        "df_test.to_csv(\"df_test_clip.csv\", index=False)"
      ],
      "metadata": {
        "id": "d5lEriizCkFo"
      },
      "execution_count": null,
      "outputs": []
    },
    {
      "cell_type": "markdown",
      "source": [
        "## Generating CLIP Embeddings"
      ],
      "metadata": {
        "id": "zV6B-dt9aA_o"
      }
    },
    {
      "cell_type": "code",
      "source": [
        "# Initialize CLIP model and processor\n",
        "model_name = \"openai/clip-vit-base-patch32\"\n",
        "device = \"cuda\" if torch.cuda.is_available() else \"cpu\"\n",
        "\n",
        "model = CLIPModel.from_pretrained(model_name).to(device)\n",
        "processor = CLIPProcessor.from_pretrained(model_name)\n",
        "\n",
        "\n",
        "\n",
        "def generate_embeddings(image):\n",
        "  # Add tqdm progress bar\n",
        "  # for entry in tqdm(dataset, desc=\"Generating embeddings\"):\n",
        "  #     img_path = entry[\"path\"]\n",
        "  #     label = entry[\"label\"]\n",
        "\n",
        "  #     Load image\n",
        "  # image = Image.open(img_path).convert(\"RGB\")\n",
        "\n",
        "  # Preprocess image\n",
        "  inputs = processor(images=image, return_tensors=\"pt\").to(device)\n",
        "\n",
        "  # Get image embeddings\n",
        "  with torch.no_grad():\n",
        "      image_embeds = model.get_image_features(**inputs)\n",
        "\n",
        "  # Normalize embeddings\n",
        "  image_embeds = image_embeds / image_embeds.norm(p=2, dim=-1, keepdim=True)\n",
        "  # embeddings.append({\n",
        "  #     \"path\": img_path,\n",
        "  #     \"label\": label,\n",
        "  #     \"embedding\": image_embeds.squeeze(0).cpu().numpy()\n",
        "  # })\n",
        "\n",
        "  return image_embeds"
      ],
      "metadata": {
        "id": "F-sMcgdC3mmi",
        "colab": {
          "base_uri": "https://localhost:8080/",
          "height": 273,
          "referenced_widgets": [
            "f533a32d60dc4b5b96192a34be28e280",
            "66e9ef4d27e748c6a6b9291dff3f3a96",
            "1200a2ce188f4c8592d2a67523102d6b",
            "0e2fb24c45db452daff47d3117b7db5b",
            "ff84f60a5c174b5f8913829239c7ea5a",
            "c0fba3b2d7bf49768c9dab3176609af4",
            "1d68c6af6c384706b6010a693018ba89",
            "3bafc3fa67ab4ef58ac0699c6c054370",
            "521cb2ae66b946809c80142b24533e22",
            "038bd175691c41c98957e42a29a11ba8",
            "1dac2bc5dcf44b159d5b8946b8bd96da",
            "0ce16a62ba2b408eb5fa7348e60dd5c4",
            "1f296bffdf3c48d3a16e4a21e5d748d9",
            "78ff596d4b01412eabcbbdaa4e7f240f",
            "7fe8536649cb4393992cbed113c983ce",
            "c845038f568c425ca86b0a88aea980a5",
            "60360ddd2a6247579b935e22d713873f",
            "39934e5bae7049caac244f5fac45e50b",
            "b387c7aef00c47feb6cadad9742a9459",
            "cab602db22374bfb934dfa425446cd28",
            "0d2fa23d9e4740218f9293b20ec524c0",
            "e9a5fc697c4144298a342594a1602087",
            "55415f6b71d74537997c319451a9afa8",
            "8e38b31d641347059162d5f874c77eb5",
            "bcc18fc498e7488e85b8efaa2bd58360",
            "93204445c5164313ad7931dcd5cc57ac",
            "19a0bbada1c3480aa8d862304e62fd90",
            "e01891089a6e4a5581b499c47e3be79e",
            "cf25e0eee83344e5835eb4a5e2364b88",
            "38ac0a59a0bf42238c24f3d76e904210",
            "64cfc88e47f14ac7bf48f2195bbda3e6",
            "259aa45f391e4e6db162364412d4ba0a",
            "4f5b704fe74544c8b735c85602328b7d",
            "7896e9c4b7d14957888f6276415f7e21",
            "f2f2d018586f42fbaf1eb42460e156c0",
            "1b577f8ab22040079f4d1b3f9fb7e0ca",
            "97c5130389464d34b65bdde0a4ed73bf",
            "733c1679d5b34751aaa45dad82f7cf64",
            "7916d633b8de45499cafd4fd6dd87bb0",
            "9bcea189190449159212d93e0c179512",
            "d707f17690c44321a40d9a9c2104cee1",
            "661c7424d6514314a726eb3b4b0572c0",
            "cb4e999ce3c541929bc424b3ef9ecc62",
            "ab2890c3e86b4d359d882db3f0562a96",
            "6200dd10fc1a4117ba23cb9a0a439605",
            "8fca151fd6b944c49b68b5185b2a2b34",
            "58f2ec43f97f4e009d2d27520d80e6ad",
            "19e3790b0c364a4881a73b35388c9b73",
            "f14ab738fc7c422396ba56f2f178055f",
            "910901c2da214627ac5a644111f2fc8b",
            "3d899bf5d0af48f9a886d5a8a716d42e",
            "b54047ac10e74b8481ab0095c553db20",
            "d81633e5079e408eb89bd111c888ee1e",
            "b986d9171d4b49ed937e5828b131bc41",
            "e142703d5d0d46e4973b13359af97822",
            "5082f61ed2334e73bfbe6b2a94f437fb",
            "6232aa6364d3425b88f2bf269c003475",
            "fe77b5f6a8b9464f9c9c9868cf974776",
            "c7454663cf12443f99864c51b2aad928",
            "32f9955ca3fa404ba354aeb01796ff5b",
            "1caaded91f2840299ebfd6908a994ebe",
            "422f3eddb54243ffa1d701d145bbbf3f",
            "d9b2d2b4ad0c4794b5385b5d93a225e9",
            "b721762fa6c840dfbafb413ae6338bc0",
            "f5c379e700ca4008a981ffd071216690",
            "7f7ad0bf311e4250b4a5de06c142bb16",
            "9050bfea27484ff28d84bfb0effa070d",
            "e44dcf297710417484076fbbea6eb7e8",
            "e34991bdf41c47f49386cb8f49ddd13b",
            "4f1ba2967c3b4016b414fe9dd35c0069",
            "1035bad128384880a227a872473f47fb",
            "afd5627e36e04ef3bf2f6e5a4976f813",
            "e7801fcee63e42869db1df54d853fff1",
            "4362fdb9e07742f0ae7307eb3d81fe73",
            "abdc81cf17b744cfac422201683d6046",
            "b9bfc1693dee4548941f2ba49fafe328",
            "f8acd5d353a84f57b4b115f9b9cdc427",
            "f5ba1f5a1545402fa8ea28c1709ef8a4",
            "af4860f47cf4498e87d2d406e36a3a27",
            "182b0292cd004e54b34a4376beecd7b1",
            "f0815304d7814816820f9fe526754732",
            "8262536471134fa5b8abb39d6a9e9b9f",
            "1795c34eaea140cdb24dd773ee6bda42",
            "ee9447d3936f4e199a166ac2545d3e88",
            "49b063e89f30404ba679b932f9c8b15a",
            "b731fc6d9781497eb579bd70dd29a903",
            "bc47c5cf43de43b0a00bcf9a80920a95",
            "15e4a450f9c04dce8a8bf835e83c708f"
          ]
        },
        "outputId": "88411688-10d2-4a20-fbc0-5ba6a9bc9af1",
        "collapsed": true
      },
      "execution_count": null,
      "outputs": [
        {
          "output_type": "display_data",
          "data": {
            "text/plain": [
              "config.json:   0%|          | 0.00/4.19k [00:00<?, ?B/s]"
            ],
            "application/vnd.jupyter.widget-view+json": {
              "version_major": 2,
              "version_minor": 0,
              "model_id": "f533a32d60dc4b5b96192a34be28e280"
            }
          },
          "metadata": {}
        },
        {
          "output_type": "display_data",
          "data": {
            "text/plain": [
              "pytorch_model.bin:   0%|          | 0.00/605M [00:00<?, ?B/s]"
            ],
            "application/vnd.jupyter.widget-view+json": {
              "version_major": 2,
              "version_minor": 0,
              "model_id": "0ce16a62ba2b408eb5fa7348e60dd5c4"
            }
          },
          "metadata": {}
        },
        {
          "output_type": "display_data",
          "data": {
            "text/plain": [
              "preprocessor_config.json:   0%|          | 0.00/316 [00:00<?, ?B/s]"
            ],
            "application/vnd.jupyter.widget-view+json": {
              "version_major": 2,
              "version_minor": 0,
              "model_id": "55415f6b71d74537997c319451a9afa8"
            }
          },
          "metadata": {}
        },
        {
          "output_type": "display_data",
          "data": {
            "text/plain": [
              "tokenizer_config.json:   0%|          | 0.00/592 [00:00<?, ?B/s]"
            ],
            "application/vnd.jupyter.widget-view+json": {
              "version_major": 2,
              "version_minor": 0,
              "model_id": "7896e9c4b7d14957888f6276415f7e21"
            }
          },
          "metadata": {}
        },
        {
          "output_type": "display_data",
          "data": {
            "text/plain": [
              "vocab.json:   0%|          | 0.00/862k [00:00<?, ?B/s]"
            ],
            "application/vnd.jupyter.widget-view+json": {
              "version_major": 2,
              "version_minor": 0,
              "model_id": "6200dd10fc1a4117ba23cb9a0a439605"
            }
          },
          "metadata": {}
        },
        {
          "output_type": "display_data",
          "data": {
            "text/plain": [
              "merges.txt:   0%|          | 0.00/525k [00:00<?, ?B/s]"
            ],
            "application/vnd.jupyter.widget-view+json": {
              "version_major": 2,
              "version_minor": 0,
              "model_id": "5082f61ed2334e73bfbe6b2a94f437fb"
            }
          },
          "metadata": {}
        },
        {
          "output_type": "display_data",
          "data": {
            "text/plain": [
              "tokenizer.json:   0%|          | 0.00/2.22M [00:00<?, ?B/s]"
            ],
            "application/vnd.jupyter.widget-view+json": {
              "version_major": 2,
              "version_minor": 0,
              "model_id": "9050bfea27484ff28d84bfb0effa070d"
            }
          },
          "metadata": {}
        },
        {
          "output_type": "display_data",
          "data": {
            "text/plain": [
              "special_tokens_map.json:   0%|          | 0.00/389 [00:00<?, ?B/s]"
            ],
            "application/vnd.jupyter.widget-view+json": {
              "version_major": 2,
              "version_minor": 0,
              "model_id": "f5ba1f5a1545402fa8ea28c1709ef8a4"
            }
          },
          "metadata": {}
        }
      ]
    },
    {
      "cell_type": "code",
      "source": [
        "embeddings_train = []\n",
        "\n",
        "for i in range(len(df_train)):\n",
        "  if(i%1000 == 0):\n",
        "    print(f\"On epoch {i}, we have reached {i*100/len(df_train)}% of the way\")\n",
        "  image = Image.open(df_shuffled.loc[i][\"image\"])\n",
        "  embed = generate_embeddings(image)\n",
        "  embeddings_train.append(embed)\n",
        "\n",
        "\n",
        "embeddings_test = []\n",
        "\n",
        "for i in range(len(df_test)):\n",
        "  if(i%1000 == 0):\n",
        "    print(f\"On epoch {i}, we have reached {i*100/len(df_test)}% of the way\")\n",
        "  image = Image.open(df_shuffled.loc[i][\"image\"])\n",
        "  embed = generate_embeddings(image)\n",
        "  embeddings_test.append(embed)\n",
        "\n",
        "print(\"embeddings generated successfully\")"
      ],
      "metadata": {
        "id": "uhX4tOYNiQ8S",
        "colab": {
          "base_uri": "https://localhost:8080/"
        },
        "collapsed": true,
        "outputId": "6f791fcc-632f-4cca-e969-90ea9b3ddbcc"
      },
      "execution_count": null,
      "outputs": [
        {
          "output_type": "stream",
          "name": "stdout",
          "text": [
            "embeddings generated successfully\n"
          ]
        }
      ]
    },
    {
      "cell_type": "markdown",
      "source": [
        "## Prepare Data"
      ],
      "metadata": {
        "id": "nzA45JC-znL0"
      }
    },
    {
      "cell_type": "code",
      "source": [
        "train_df = pd.read_csv(\"/content/drive/MyDrive/AI/Data/Adobe2024_InterIIT/TrainingCLIP/df_train_clip.csv\")\n",
        "test_df = pd.read_csv(\"/content/drive/MyDrive/AI/Data/Adobe2024_InterIIT/TrainingCLIP/df_test_clip.csv\")\n",
        "traininglabels_worded = train_df[\"label\"].tolist()\n",
        "testlabels_worded = test_df[\"label\"].tolist()\n",
        "\n",
        "traininglabels = []\n",
        "testlabels = []\n",
        "\n",
        "for i in range(len(traininglabels_worded)):\n",
        "  if(traininglabels_worded[i] == \"REAL\"):\n",
        "    traininglabels.append(1)\n",
        "  else:\n",
        "    traininglabels.append(0)\n",
        "\n",
        "for i in range(len(testlabels_worded)):\n",
        "  if(testlabels_worded[i] == \"REAL\"):\n",
        "    testlabels.append(1)\n",
        "  else:\n",
        "    testlabels.append(0)\n",
        "\n",
        "#traininglabels contain all the data\n",
        "# train_embeddings = torch.load(\"/content/drive/MyDrive/AI/Data/Adobe2024_InterIIT/embeddings_train.pt\", map_location=torch.device('cpu'))\n",
        "# test_embeddings = torch.load(\"/content/drive/MyDrive/AI/Data/Adobe2024_InterIIT/embeddings_test.pt\", map_location=torch.device('cpu'))\n",
        "train_embeddings = torch.load(\"/content/drive/MyDrive/AI/Data/Adobe2024_InterIIT/TrainingCLIP/embeddings_train.pt\")\n",
        "test_embeddings = torch.load(\"/content/drive/MyDrive/AI/Data/Adobe2024_InterIIT/TrainingCLIP/embeddings_test.pt\")"
      ],
      "metadata": {
        "id": "EI8omZfR1ZDV",
        "outputId": "d2c536f7-acc7-4173-e9bd-67084393c896",
        "colab": {
          "base_uri": "https://localhost:8080/"
        }
      },
      "execution_count": null,
      "outputs": [
        {
          "output_type": "stream",
          "name": "stderr",
          "text": [
            "<ipython-input-12-682390fa60d2>:24: FutureWarning: You are using `torch.load` with `weights_only=False` (the current default value), which uses the default pickle module implicitly. It is possible to construct malicious pickle data which will execute arbitrary code during unpickling (See https://github.com/pytorch/pytorch/blob/main/SECURITY.md#untrusted-models for more details). In a future release, the default value for `weights_only` will be flipped to `True`. This limits the functions that could be executed during unpickling. Arbitrary objects will no longer be allowed to be loaded via this mode unless they are explicitly allowlisted by the user via `torch.serialization.add_safe_globals`. We recommend you start setting `weights_only=True` for any use case where you don't have full control of the loaded file. Please open an issue on GitHub for any issues related to this experimental feature.\n",
            "  train_embeddings = torch.load(\"/content/drive/MyDrive/AI/Data/Adobe2024_InterIIT/TrainingCLIP/embeddings_train.pt\")\n",
            "<ipython-input-12-682390fa60d2>:25: FutureWarning: You are using `torch.load` with `weights_only=False` (the current default value), which uses the default pickle module implicitly. It is possible to construct malicious pickle data which will execute arbitrary code during unpickling (See https://github.com/pytorch/pytorch/blob/main/SECURITY.md#untrusted-models for more details). In a future release, the default value for `weights_only` will be flipped to `True`. This limits the functions that could be executed during unpickling. Arbitrary objects will no longer be allowed to be loaded via this mode unless they are explicitly allowlisted by the user via `torch.serialization.add_safe_globals`. We recommend you start setting `weights_only=True` for any use case where you don't have full control of the loaded file. Please open an issue on GitHub for any issues related to this experimental feature.\n",
            "  test_embeddings = torch.load(\"/content/drive/MyDrive/AI/Data/Adobe2024_InterIIT/TrainingCLIP/embeddings_test.pt\")\n"
          ]
        }
      ]
    },
    {
      "cell_type": "code",
      "source": [
        "len(train_embeddings)"
      ],
      "metadata": {
        "colab": {
          "base_uri": "https://localhost:8080/"
        },
        "id": "cQZDlSXoWWiP",
        "outputId": "96f861e7-7268-4548-97d0-d8ef75a77dd4"
      },
      "execution_count": null,
      "outputs": [
        {
          "output_type": "execute_result",
          "data": {
            "text/plain": [
              "96000"
            ]
          },
          "metadata": {},
          "execution_count": 13
        }
      ]
    },
    {
      "cell_type": "code",
      "source": [
        "train_embeddings = torch.stack(train_embeddings).to(device)\n",
        "test_embeddings = torch.stack(test_embeddings).to(device)\n",
        "traininglabels = torch.tensor(traininglabels).to(device)\n",
        "testlabels = torch.tensor(testlabels).to(device)\n",
        "\n",
        "\n",
        "class TrainDS(Dataset):\n",
        "  def __init__(self):\n",
        "    self.x = train_embeddings.to(device)\n",
        "    self.y = traininglabels.to(device)\n",
        "    self.n_samples = len(train_embeddings)\n",
        "\n",
        "  def __getitem__(self, index):\n",
        "    return self.x[index], self.y[index]\n",
        "\n",
        "  def __len__(self):\n",
        "    return self.n_samples\n",
        "\n",
        "\n",
        "class TestDS(Dataset):\n",
        "  def __init__(self):\n",
        "    self.x = test_embeddings.to(device)\n",
        "    self.y = testlabels.to(device)\n",
        "    self.n_samples = len(test_embeddings)\n",
        "\n",
        "  def __getitem__(self, index):\n",
        "    return self.x[index], self.y[index]\n",
        "\n",
        "  def __len__(self):\n",
        "    return self.n_samples\n",
        "\n",
        "train_ds = TrainDS()\n",
        "test_ds = TestDS()\n",
        "\n",
        "first_data = test_ds[0]\n",
        "features, labels = first_data\n",
        "print(features, labels)\n",
        "\n",
        "\n",
        "train_dataloader = DataLoader(dataset = train_ds,\n",
        "                              batch_size = 64,\n",
        "                              shuffle = True,)\n",
        "\n",
        "test_dataloader = DataLoader(dataset = test_ds,\n",
        "                              batch_size = 64,\n",
        "                              shuffle = False,)\n",
        "\n",
        "# num_workers = os.cpu_count()\n",
        "# traininglabels, testlabels\n",
        "# train_embeddings, test_embeddings"
      ],
      "metadata": {
        "collapsed": true,
        "id": "xzRs9NO8v5PW",
        "outputId": "93bf9b9e-686e-470c-aa3c-d2fbcc76a37b",
        "colab": {
          "base_uri": "https://localhost:8080/"
        }
      },
      "execution_count": null,
      "outputs": [
        {
          "output_type": "stream",
          "name": "stdout",
          "text": [
            "tensor([[-8.7257e-04, -1.9535e-02,  3.3185e-02,  3.4779e-04,  3.5558e-03,\n",
            "         -2.5704e-02,  5.2675e-02,  1.4164e-02,  1.1723e-02,  3.2627e-02,\n",
            "          2.0427e-02,  2.2363e-02,  3.4922e-02,  3.3942e-02, -2.8948e-03,\n",
            "          1.9436e-02,  5.8312e-02,  3.0569e-02,  2.6818e-02, -3.6915e-04,\n",
            "          7.3715e-03, -2.7406e-02,  3.4366e-02, -1.8977e-02, -3.0820e-02,\n",
            "         -1.0898e-02, -2.3490e-02,  4.6446e-03,  3.1867e-02, -1.0991e-02,\n",
            "          2.7208e-02, -4.5901e-02,  2.7496e-02,  5.4858e-03, -4.5776e-02,\n",
            "         -4.2436e-02,  6.1906e-03, -1.2556e-02, -6.5514e-02,  1.4790e-01,\n",
            "         -3.0279e-02, -5.1343e-02, -1.6756e-04,  4.7338e-03,  5.4913e-03,\n",
            "         -6.6648e-02,  8.6520e-03,  3.2008e-02,  4.2624e-02,  2.4663e-03,\n",
            "          1.5844e-02,  6.5223e-02,  7.8022e-04,  3.6556e-02,  4.0261e-02,\n",
            "         -4.0480e-03,  3.2004e-02,  5.8649e-03, -5.6866e-02, -3.6633e-02,\n",
            "          4.5552e-02,  1.3767e-02,  2.8289e-02, -2.0343e-02, -1.3936e-02,\n",
            "          3.5862e-04, -8.6034e-03,  4.2715e-02, -1.2056e-02,  1.1552e-02,\n",
            "         -8.5637e-03, -2.7150e-02, -2.2634e-03,  7.2940e-02,  2.4022e-04,\n",
            "         -2.5961e-02, -7.8382e-03, -6.6000e-03, -4.7030e-02, -1.6234e-02,\n",
            "          1.5419e-02,  1.6939e-02,  2.2202e-02, -3.1633e-02,  5.4571e-02,\n",
            "          1.0670e-03,  4.5473e-02, -2.0619e-03,  1.8588e-02, -1.0117e-02,\n",
            "          1.2712e-02, -3.9478e-02, -6.8439e-01,  5.5645e-02,  2.3100e-02,\n",
            "          2.1095e-02,  1.8947e-02, -2.2215e-02, -1.2161e-01, -7.3405e-03,\n",
            "         -3.6257e-02, -1.0244e-02,  8.9606e-03, -2.2360e-03,  3.5369e-02,\n",
            "          2.0993e-02, -8.0742e-02,  3.5608e-02, -3.6649e-02, -1.1344e-02,\n",
            "         -3.5635e-02, -1.7767e-02, -5.1892e-02,  3.5894e-02, -1.0161e-02,\n",
            "          1.4535e-03, -3.3769e-02, -2.9571e-02,  3.9583e-02, -1.8660e-02,\n",
            "         -3.5275e-02, -4.8555e-02,  2.2903e-02,  1.4809e-02,  5.4870e-03,\n",
            "         -2.5154e-02, -9.1542e-04,  3.0864e-02, -3.7167e-02,  2.2151e-02,\n",
            "          2.1450e-02, -4.7098e-02,  1.4676e-02,  8.9363e-02,  1.1865e-02,\n",
            "          5.4759e-02,  1.6652e-02, -6.9558e-02,  2.4583e-02, -2.1329e-02,\n",
            "          3.0525e-02,  2.5937e-02,  2.5249e-02,  1.4814e-02,  1.2306e-02,\n",
            "         -6.6842e-04, -4.3408e-06,  3.8813e-02, -3.8557e-02,  4.1556e-02,\n",
            "          1.5304e-02, -3.0056e-02,  1.8979e-02,  1.9058e-03, -3.4049e-02,\n",
            "         -2.8430e-02,  1.1140e-02,  2.0701e-02, -2.0589e-02, -3.7719e-02,\n",
            "         -6.8373e-04,  5.7442e-04, -8.7207e-03, -1.4420e-02,  1.9441e-02,\n",
            "          2.9502e-03, -8.4391e-02,  5.2419e-02,  5.4875e-02,  2.6666e-02,\n",
            "          6.6769e-03, -2.1079e-02,  2.9622e-02, -1.2180e-02, -6.8793e-03,\n",
            "          1.8040e-03,  8.9740e-02,  3.1172e-02,  1.0151e-02, -1.3005e-02,\n",
            "         -4.2335e-02, -7.3557e-03,  3.8442e-03,  1.2460e-02, -1.8628e-02,\n",
            "         -5.3039e-02,  7.6018e-03,  3.6188e-03, -2.1458e-02, -7.4500e-03,\n",
            "          9.7265e-04,  2.9818e-02, -4.7382e-02, -1.3386e-02, -3.8646e-02,\n",
            "         -2.9939e-03,  2.5001e-02, -1.8259e-02, -4.4531e-03, -9.9399e-03,\n",
            "         -9.0624e-03, -3.8173e-03,  2.9682e-03,  3.0376e-02,  2.0103e-02,\n",
            "          7.3504e-03, -1.7369e-03, -2.1902e-02,  5.7128e-02, -3.0968e-02,\n",
            "         -3.1182e-02,  6.3318e-03,  2.6533e-02,  2.6260e-02,  1.4682e-02,\n",
            "         -1.4961e-03, -2.3770e-02,  2.5969e-02,  8.9910e-02,  2.4089e-04,\n",
            "          8.3011e-02,  5.6507e-02,  5.8199e-02,  6.8583e-03, -4.9364e-03,\n",
            "          3.5083e-02,  9.8341e-03, -8.5352e-03, -9.8723e-03,  2.6957e-02,\n",
            "          3.5044e-02, -5.4144e-03, -1.2738e-02, -1.1015e-02,  1.7359e-02,\n",
            "         -6.7886e-03,  1.8567e-03, -4.5386e-02, -1.4015e-02, -3.0889e-02,\n",
            "         -1.9965e-03, -1.3342e-02,  7.4225e-03, -3.6779e-02, -1.4548e-02,\n",
            "         -1.6118e-02, -1.4672e-02, -5.2961e-02,  4.0181e-02,  7.6564e-02,\n",
            "         -9.4684e-03,  2.4802e-02,  3.3371e-02,  1.0009e-02, -7.2610e-03,\n",
            "         -8.8919e-03, -1.4511e-02, -3.4640e-02,  6.7541e-02, -3.1822e-02,\n",
            "         -2.2326e-02, -8.9935e-03, -5.5184e-02, -7.0144e-02, -8.0508e-04,\n",
            "          4.9370e-02,  3.3850e-02, -3.2030e-02,  2.1040e-02, -2.6525e-02,\n",
            "         -1.1503e-02, -7.4159e-03, -3.6763e-02,  2.1745e-02, -4.8101e-03,\n",
            "          2.4042e-03,  5.8861e-02, -9.0006e-03, -1.4889e-02,  2.1364e-02,\n",
            "         -2.9133e-02,  4.2784e-02, -2.8055e-02,  1.7129e-02, -3.2935e-03,\n",
            "         -3.5265e-02,  7.3802e-02,  1.1959e-02, -1.7502e-02, -2.8064e-02,\n",
            "          1.3163e-02,  3.8220e-02, -1.7049e-02,  3.5089e-02, -3.3519e-02,\n",
            "          1.5490e-02,  5.2805e-02, -5.4651e-02, -1.4039e-02, -1.1491e-02,\n",
            "         -1.0301e-02, -2.0544e-02,  1.0070e-02,  4.5540e-02,  7.7098e-03,\n",
            "         -4.3559e-02, -2.9542e-03,  9.2071e-03,  2.6775e-02, -6.3289e-03,\n",
            "         -4.5486e-02,  1.4055e-02,  8.9199e-02, -3.6737e-02, -7.6840e-03,\n",
            "          4.4628e-03,  3.8147e-02,  4.2067e-02,  7.1401e-04, -1.0816e-02,\n",
            "          5.5369e-02,  7.0117e-02,  6.8819e-03, -1.9703e-02,  1.5380e-02,\n",
            "          2.1721e-02, -1.4820e-02,  1.5217e-02,  1.8269e-02,  4.5427e-02,\n",
            "          9.1712e-03, -2.7776e-02,  6.2764e-02, -2.6693e-02,  2.2370e-02,\n",
            "         -1.0125e-02, -9.4634e-03,  5.5197e-02,  4.7374e-02, -4.8796e-02,\n",
            "          5.7505e-03,  6.7548e-02, -1.2938e-02,  4.1065e-02,  7.4290e-03,\n",
            "         -1.2950e-02,  9.1026e-03,  4.5367e-02, -1.9060e-02,  2.6647e-02,\n",
            "         -3.8176e-02, -4.8624e-03,  2.7071e-02, -3.4068e-02,  1.6629e-02,\n",
            "          3.7515e-02,  1.3372e-02, -1.0468e-01, -4.6679e-03, -9.2214e-03,\n",
            "         -1.3049e-02,  2.3438e-02,  5.7293e-02, -1.1817e-02, -1.0854e-01,\n",
            "         -1.5639e-02, -8.5936e-03, -6.2724e-02,  3.8236e-03,  6.4791e-03,\n",
            "         -5.9145e-03,  3.1032e-02,  1.2363e-02, -5.5947e-03, -2.0583e-02,\n",
            "          4.3780e-02,  1.0879e-01,  1.8889e-02,  3.3921e-03, -6.4906e-03,\n",
            "         -9.2619e-03,  1.9748e-02, -1.0413e-02,  3.4539e-02,  1.4552e-02,\n",
            "          2.1957e-02, -2.4416e-02,  2.7360e-02, -3.7245e-02, -4.5260e-02,\n",
            "         -2.1058e-02, -6.6061e-02,  2.4574e-02,  2.2121e-02, -2.8466e-02,\n",
            "         -2.6509e-02, -2.1897e-02, -3.1478e-02, -4.6043e-02, -6.9214e-04,\n",
            "         -3.9700e-02,  3.7497e-03,  1.9683e-02, -1.0961e-02,  1.8462e-02,\n",
            "         -1.3018e-02,  1.4682e-02, -3.8293e-03,  6.3131e-02, -9.2372e-02,\n",
            "         -1.6048e-02,  3.4104e-03, -1.3446e-03, -1.7688e-02, -6.9186e-03,\n",
            "          9.8531e-03, -3.3932e-02, -6.7021e-02, -2.6588e-02, -6.1528e-02,\n",
            "         -9.1190e-03,  4.9197e-03, -2.1686e-02, -1.7753e-02,  1.2880e-02,\n",
            "          1.6819e-02,  1.0209e-02, -3.0706e-02, -6.1414e-02, -4.1759e-02,\n",
            "         -4.4955e-03, -2.3897e-02,  5.0720e-02, -5.8942e-03,  1.2803e-02,\n",
            "         -5.0122e-02,  2.8633e-02,  1.7704e-02,  3.2527e-02,  1.9888e-03,\n",
            "         -9.4846e-03,  2.2890e-02, -7.8356e-03, -1.0729e-02,  3.0328e-02,\n",
            "         -7.9275e-03,  5.4424e-02, -1.7492e-03, -4.5428e-03, -1.4961e-02,\n",
            "         -6.0963e-02, -1.2618e-02, -7.9813e-03,  4.0288e-03, -2.2013e-02,\n",
            "          7.4518e-03,  1.9781e-02,  1.7794e-03, -3.0616e-02, -7.7124e-03,\n",
            "          8.6510e-03, -6.5712e-03,  1.6812e-02, -1.2944e-02,  6.2527e-03,\n",
            "          5.1386e-02,  2.4851e-02,  2.0508e-02,  8.7589e-03, -1.8999e-02,\n",
            "          3.3072e-02, -1.3908e-02,  1.2996e-02, -5.1570e-02,  6.7942e-04,\n",
            "         -7.2709e-03,  7.1319e-03, -1.1718e-02, -1.4890e-03, -2.2415e-03,\n",
            "         -5.4557e-03, -4.1865e-03, -1.4652e-02, -1.0102e-02,  2.0102e-02,\n",
            "         -1.5572e-02, -3.6366e-02, -7.8179e-04, -2.4364e-02, -1.4621e-02,\n",
            "         -5.5132e-03, -4.1444e-04,  4.9567e-02, -1.8674e-02,  2.1734e-02,\n",
            "         -3.2148e-04,  2.6071e-02,  2.0988e-02, -8.6409e-03, -2.6494e-02,\n",
            "         -1.2515e-02, -1.9641e-02, -6.2475e-03, -3.0203e-03,  7.1787e-03,\n",
            "          1.2441e-02,  1.1046e-02,  5.3624e-02,  2.3165e-02,  5.7808e-02,\n",
            "         -1.6561e-02, -2.0102e-02]], device='cuda:0') tensor(0, device='cuda:0')\n"
          ]
        }
      ]
    },
    {
      "cell_type": "code",
      "source": [
        "len(train_ds)\n",
        "#test_embeddings.shape"
      ],
      "metadata": {
        "colab": {
          "base_uri": "https://localhost:8080/"
        },
        "id": "bYjtBfxaXM6x",
        "outputId": "0307e2a3-39ae-414b-b1e2-cfd9460b7d64"
      },
      "execution_count": null,
      "outputs": [
        {
          "output_type": "execute_result",
          "data": {
            "text/plain": [
              "96000"
            ]
          },
          "metadata": {},
          "execution_count": 15
        }
      ]
    },
    {
      "cell_type": "markdown",
      "source": [
        "## Neural Network"
      ],
      "metadata": {
        "id": "fRjkXq7L8q6G"
      }
    },
    {
      "cell_type": "code",
      "source": [
        "class NeuralNetwork(nn.Module):\n",
        "    def __init__(self):\n",
        "        super(NeuralNetwork, self).__init__()\n",
        "        # self.fc2 = nn.Linear(512, 256)\n",
        "        # self.fc4 = nn.Linear(256, 64)\n",
        "        # self.fc5 = nn.Linear(64,16)\n",
        "        # self.fc7 = nn.Linear(16,8)\n",
        "        # self.fc8 = nn.Linear(8,4)\n",
        "        # self.fc9 = nn.Linear(4,1)\n",
        "        self.fc1 = nn.Linear(512, 124)\n",
        "        self.bn1 = nn.BatchNorm1d(124)\n",
        "        self.fc2 = nn.Linear(124, 32)\n",
        "        self.fc3 = nn.Linear(32, 1)\n",
        "        self.dropout = nn.Dropout(0.2)\n",
        "\n",
        "    def forward(self, x):\n",
        "        #x = x.view(x.size(0), -1)\n",
        "        # if len(x.shape) == 1:\n",
        "        #     x = x.unsqueeze(0)\n",
        "        # x = self.bn1(torch.relu(self.fc1(x)))\n",
        "        x = torch.relu(self.fc1(x))\n",
        "        x = torch.relu(self.fc2(x))\n",
        "        x = self.dropout(x)\n",
        "        x = torch.sigmoid(self.fc3(x))\n",
        "        return x"
      ],
      "metadata": {
        "id": "e34CsqZb8suP"
      },
      "execution_count": null,
      "outputs": []
    },
    {
      "cell_type": "code",
      "source": [
        "model = NeuralNetwork()\n",
        "\n",
        "# Define the loss function and optimizer\n",
        "criterion = nn.BCEWithLogitsLoss()  # Binary Cross Entropy Loss with Logits\n",
        "#criterion = nn.MSELoss()  # Mean Squared Error Loss with Logits\n",
        "optimizer = torch.optim.Adam(model.parameters(), lr=1e-4)\n",
        "\n",
        "# Training loop\n",
        "num_epochs = 5\n",
        "device = torch.device(\"cuda\" if torch.cuda.is_available() else \"cpu\")\n",
        "model.to(device)"
      ],
      "metadata": {
        "colab": {
          "base_uri": "https://localhost:8080/"
        },
        "id": "_zYQiWIS-P0q",
        "outputId": "90fb51b7-3a0a-4d06-b7e8-8ff5cf7bab38"
      },
      "execution_count": null,
      "outputs": [
        {
          "output_type": "execute_result",
          "data": {
            "text/plain": [
              "NeuralNetwork(\n",
              "  (fc1): Linear(in_features=512, out_features=124, bias=True)\n",
              "  (bn1): BatchNorm1d(124, eps=1e-05, momentum=0.1, affine=True, track_running_stats=True)\n",
              "  (fc2): Linear(in_features=124, out_features=32, bias=True)\n",
              "  (fc3): Linear(in_features=32, out_features=1, bias=True)\n",
              "  (dropout): Dropout(p=0.2, inplace=False)\n",
              ")"
            ]
          },
          "metadata": {},
          "execution_count": 22
        }
      ]
    },
    {
      "cell_type": "code",
      "source": [
        "def rounder(num):\n",
        "  distfrom_one = abs(num-1)\n",
        "  distfrom_zero = abs(num)\n",
        "  if(distfrom_one < distfrom_zero):\n",
        "    return 1\n",
        "  else:\n",
        "    return 0\n",
        "\n",
        "def train_accuracy(model):\n",
        "  accuracy = 0\n",
        "  model.eval()\n",
        "  with torch.inference_mode():\n",
        "    output = model(train_embeddings) # should return something of the size\n",
        "    for i in range(24000):\n",
        "      pred = output[i].item()\n",
        "      pred = rounder(pred)\n",
        "      if(pred == traininglabels[i]):\n",
        "        accuracy += 1\n",
        "  return accuracy*100/24000\n",
        "\n",
        "def test_accuracy(model):\n",
        "  accuracy = 0\n",
        "  model.eval()\n",
        "  with torch.inference_mode():\n",
        "    output = model(test_embeddings) # should return something of the size\n",
        "    for i in range(24000):\n",
        "      pred = output[i].item()\n",
        "      pred = rounder(pred)\n",
        "      if(pred == testlabels[i]):\n",
        "        accuracy += 1\n",
        "  return accuracy*100/24000"
      ],
      "metadata": {
        "id": "8hU5fI7QWBYY"
      },
      "execution_count": null,
      "outputs": []
    },
    {
      "cell_type": "code",
      "source": [
        "for epoch in tqdm(range(num_epochs)):\n",
        "    print(f\"Epoch: {epoch}\\n-----\")\n",
        "    running_loss = 0.0\n",
        "\n",
        "    for batch, (inputs, labels) in enumerate(train_dataloader):\n",
        "      model.train()\n",
        "      # inputs, labels = inputs.view(inputs.size(0), -1).to(device), labels.float().to(device)\n",
        "      inputs, labels = inputs.to(device), labels.view(-1, 1).float().to(device)\n",
        "\n",
        "      optimizer.zero_grad()\n",
        "\n",
        "      outputs = model(inputs).reshape(64, 1)\n",
        "      #loss = criterion(outputs.squeeze(), labels)\n",
        "      loss = criterion(outputs, labels)\n",
        "      running_loss += loss.item()\n",
        "\n",
        "      loss.backward()\n",
        "      optimizer.step()\n",
        "\n",
        "      if(batch%400 == 0):\n",
        "        print(f\"Looked at {batch*len(inputs)}/{len(train_dataloader.dataset)} samples.\")\n",
        "        print(f\"Accuracy = {train_accuracy(model):.2f}\")\n",
        "\n",
        "    running_loss /= len(train_dataloader)\n",
        "\n",
        "\n",
        "\n",
        "    #print(f\"Epoch [{epoch + 1}/{num_epochs}], Loss: {running_loss / len(train_loader):.4f}\")"
      ],
      "metadata": {
        "colab": {
          "base_uri": "https://localhost:8080/"
        },
        "id": "MNnH9qTP-Rte",
        "outputId": "1ad0acca-1c78-400c-b321-0fb308871f18"
      },
      "execution_count": null,
      "outputs": [
        {
          "output_type": "stream",
          "name": "stderr",
          "text": [
            "\r  0%|          | 0/5 [00:00<?, ?it/s]"
          ]
        },
        {
          "output_type": "stream",
          "name": "stdout",
          "text": [
            "Epoch: 0\n",
            "-----\n",
            "Looked at 0/96000 samples.\n",
            "Accuracy = 49.14\n",
            "Looked at 25600/96000 samples.\n",
            "Accuracy = 50.86\n",
            "Looked at 51200/96000 samples.\n",
            "Accuracy = 80.78\n",
            "Looked at 76800/96000 samples.\n",
            "Accuracy = 88.00\n"
          ]
        },
        {
          "output_type": "stream",
          "name": "stderr",
          "text": [
            "\r 20%|██        | 1/5 [00:09<00:39,  9.80s/it]"
          ]
        },
        {
          "output_type": "stream",
          "name": "stdout",
          "text": [
            "Epoch: 1\n",
            "-----\n",
            "Looked at 0/96000 samples.\n",
            "Accuracy = 88.59\n",
            "Looked at 25600/96000 samples.\n",
            "Accuracy = 90.32\n",
            "Looked at 51200/96000 samples.\n",
            "Accuracy = 90.89\n",
            "Looked at 76800/96000 samples.\n",
            "Accuracy = 91.08\n"
          ]
        },
        {
          "output_type": "stream",
          "name": "stderr",
          "text": [
            "\r 40%|████      | 2/5 [00:18<00:26,  8.89s/it]"
          ]
        },
        {
          "output_type": "stream",
          "name": "stdout",
          "text": [
            "Epoch: 2\n",
            "-----\n",
            "Looked at 0/96000 samples.\n",
            "Accuracy = 91.55\n",
            "Looked at 25600/96000 samples.\n",
            "Accuracy = 91.80\n",
            "Looked at 51200/96000 samples.\n",
            "Accuracy = 92.02\n",
            "Looked at 76800/96000 samples.\n",
            "Accuracy = 92.19\n"
          ]
        },
        {
          "output_type": "stream",
          "name": "stderr",
          "text": [
            "\r 60%|██████    | 3/5 [00:26<00:17,  8.78s/it]"
          ]
        },
        {
          "output_type": "stream",
          "name": "stdout",
          "text": [
            "Epoch: 3\n",
            "-----\n",
            "Looked at 0/96000 samples.\n",
            "Accuracy = 92.28\n",
            "Looked at 25600/96000 samples.\n",
            "Accuracy = 92.43\n",
            "Looked at 51200/96000 samples.\n",
            "Accuracy = 92.35\n",
            "Looked at 76800/96000 samples.\n",
            "Accuracy = 92.50\n"
          ]
        },
        {
          "output_type": "stream",
          "name": "stderr",
          "text": [
            "\r 80%|████████  | 4/5 [00:35<00:08,  8.92s/it]"
          ]
        },
        {
          "output_type": "stream",
          "name": "stdout",
          "text": [
            "Epoch: 4\n",
            "-----\n",
            "Looked at 0/96000 samples.\n",
            "Accuracy = 92.68\n",
            "Looked at 25600/96000 samples.\n",
            "Accuracy = 92.83\n",
            "Looked at 51200/96000 samples.\n",
            "Accuracy = 92.78\n",
            "Looked at 76800/96000 samples.\n",
            "Accuracy = 93.00\n"
          ]
        },
        {
          "output_type": "stream",
          "name": "stderr",
          "text": [
            "100%|██████████| 5/5 [00:43<00:00,  8.72s/it]\n"
          ]
        }
      ]
    },
    {
      "cell_type": "markdown",
      "source": [
        "#### Accuracy"
      ],
      "metadata": {
        "id": "Juv1ac2SgM9d"
      }
    },
    {
      "cell_type": "code",
      "source": [
        "# Example output\n",
        "outputs = []\n",
        "\n",
        "for i in range(10):\n",
        "  outputs.append(model(test_embeddings[i]).item())\n",
        "\n",
        "outputs"
      ],
      "metadata": {
        "colab": {
          "base_uri": "https://localhost:8080/"
        },
        "id": "vqhzBOBWVSDC",
        "outputId": "8f8d77d6-f4ea-4eea-c9de-b2a1aebfcbd8"
      },
      "execution_count": null,
      "outputs": [
        {
          "output_type": "execute_result",
          "data": {
            "text/plain": [
              "[0.999966025352478,\n",
              " 0.04508163407444954,\n",
              " 0.04508163407444954,\n",
              " 0.04508163407444954,\n",
              " 0.04508163407444954,\n",
              " 0.9999878406524658,\n",
              " 0.04508163407444954,\n",
              " 0.04508163407444954,\n",
              " 0.04508163407444954,\n",
              " 0.9999988079071045]"
            ]
          },
          "metadata": {},
          "execution_count": 50
        }
      ]
    },
    {
      "cell_type": "code",
      "source": [
        "model.eval()\n",
        "val_loss = 0.0\n",
        "correct = 0\n",
        "total = 0\n",
        "\n",
        "with torch.no_grad():\n",
        "    for inputs, labels in test_loader:\n",
        "        inputs, labels = inputs.view(inputs.size(0), -1).to(device), labels.float().to(device)\n",
        "        outputs = model(inputs)\n",
        "\n",
        "        loss = criterion(outputs.squeeze(), labels)\n",
        "        val_loss += loss.item()\n",
        "\n",
        "        predicted = torch.sigmoid(outputs).squeeze() > 0.5\n",
        "        correct += (predicted == labels).sum().item()\n",
        "        total += labels.size(0)\n",
        "\n",
        "print(f\"Validation Loss: {val_loss / len(test_loader):.4f}\")\n",
        "print(f\"Validation Accuracy: {correct / total * 100:.2f}%\")"
      ],
      "metadata": {
        "id": "b-g8iZ9i9i7c"
      },
      "execution_count": null,
      "outputs": []
    },
    {
      "cell_type": "markdown",
      "source": [
        "#### Save and Load Model"
      ],
      "metadata": {
        "id": "BTD5MJZMgaQg"
      }
    },
    {
      "cell_type": "code",
      "source": [
        "model_path = Path(\"Model\")\n",
        "model_path.mkdir(parents=True, exist_ok=True)\n",
        "\n",
        "model_name = \"CLIPNeural_One.pth\"\n",
        "\n",
        "model_save_path = model_path / model_name\n",
        "\n",
        "print(f\"Saving model to: {model_save_path}\")\n",
        "torch.save(obj=model.state_dict(),\n",
        "           f=model_save_path)"
      ],
      "metadata": {
        "colab": {
          "base_uri": "https://localhost:8080/"
        },
        "id": "GAQ9mgB3gbkm",
        "outputId": "c201ad94-bedf-402f-8fa5-0f88db11220c"
      },
      "execution_count": null,
      "outputs": [
        {
          "output_type": "stream",
          "name": "stdout",
          "text": [
            "Saving model to: Model/CLIPNeural_One.pth\n"
          ]
        }
      ]
    },
    {
      "cell_type": "code",
      "source": [
        "loaded_model = NeuralNetwork().to(device)\n",
        "loaded_model.load_state_dict(torch.load(f=\"/content/CLIPNeural_One.pth\"))"
      ],
      "metadata": {
        "colab": {
          "base_uri": "https://localhost:8080/"
        },
        "id": "rFxAO4rAg586",
        "outputId": "1f0f5be7-1897-45d3-bf07-754505415513"
      },
      "execution_count": null,
      "outputs": [
        {
          "output_type": "stream",
          "name": "stderr",
          "text": [
            "<ipython-input-9-787f74348828>:2: FutureWarning: You are using `torch.load` with `weights_only=False` (the current default value), which uses the default pickle module implicitly. It is possible to construct malicious pickle data which will execute arbitrary code during unpickling (See https://github.com/pytorch/pytorch/blob/main/SECURITY.md#untrusted-models for more details). In a future release, the default value for `weights_only` will be flipped to `True`. This limits the functions that could be executed during unpickling. Arbitrary objects will no longer be allowed to be loaded via this mode unless they are explicitly allowlisted by the user via `torch.serialization.add_safe_globals`. We recommend you start setting `weights_only=True` for any use case where you don't have full control of the loaded file. Please open an issue on GitHub for any issues related to this experimental feature.\n",
            "  loaded_model.load_state_dict(torch.load(f=\"/content/CLIPNeural_One.pth\"))\n"
          ]
        },
        {
          "output_type": "execute_result",
          "data": {
            "text/plain": [
              "<All keys matched successfully>"
            ]
          },
          "metadata": {},
          "execution_count": 9
        }
      ]
    },
    {
      "cell_type": "code",
      "source": [
        "get_accuracy(loaded_model)"
      ],
      "metadata": {
        "colab": {
          "base_uri": "https://localhost:8080/"
        },
        "id": "dj2xzmJ9iMru",
        "outputId": "e304ac34-3f77-4a44-9815-29732137f9b0"
      },
      "execution_count": null,
      "outputs": [
        {
          "output_type": "execute_result",
          "data": {
            "text/plain": [
              "94.20416666666667"
            ]
          },
          "metadata": {},
          "execution_count": 53
        }
      ]
    }
  ]
}