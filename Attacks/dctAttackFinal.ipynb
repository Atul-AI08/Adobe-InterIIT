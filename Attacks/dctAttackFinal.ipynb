{
  "nbformat": 4,
  "nbformat_minor": 0,
  "metadata": {
    "colab": {
      "provenance": [],
      "collapsed_sections": [
        "XqzDmJgEA1LR",
        "C9r-BAgSA3PD"
      ]
    },
    "kernelspec": {
      "name": "python3",
      "display_name": "Python 3"
    },
    "language_info": {
      "name": "python"
    }
  },
  "cells": [
    {
      "cell_type": "markdown",
      "source": [
        "# Dependencies"
      ],
      "metadata": {
        "id": "XqzDmJgEA1LR"
      }
    },
    {
      "cell_type": "code",
      "source": [
        "!unzip /content/task2_images_resized.zip"
      ],
      "metadata": {
        "id": "6jZ1L5-DA6Ud"
      },
      "execution_count": null,
      "outputs": []
    },
    {
      "cell_type": "code",
      "execution_count": null,
      "metadata": {
        "id": "3OeUAiJvAu7T"
      },
      "outputs": [],
      "source": [
        "import numpy as np\n",
        "from scipy.fftpack import dct, idct\n",
        "from PIL import Image\n",
        "import matplotlib.pyplot as plt\n",
        "#from transformers import pipeline\n",
        "import torch\n",
        "import os\n",
        "#from art.attacks.evasion import SimBA\n",
        "\n",
        "# device = torch.device(\"cuda\" if torch.cuda.is_available() else \"cpu\")\n",
        "\n",
        "# pipe = pipeline(\"image-classification\", model=\"dima806/ai_vs_real_image_detection\", device=device)"
      ]
    },
    {
      "cell_type": "markdown",
      "source": [
        "# Functions"
      ],
      "metadata": {
        "id": "C9r-BAgSA3PD"
      }
    },
    {
      "cell_type": "code",
      "source": [
        "def DCT_attack(x, epsilon=0.2, num_iters=1000):\n",
        "    \"\"\"\n",
        "    Perform a DCT-based attack on an image in H, W, C format and return the attacked DCT coefficients and reconstructed image.\n",
        "\n",
        "    Args:\n",
        "        x (numpy.ndarray): Input image (shape: H, W, C), normalized.\n",
        "        epsilon (float): Perturbation step size in the DCT domain.\n",
        "        num_iters (int): Maximum number of perturbation iterations.\n",
        "\n",
        "    Returns:\n",
        "        attacked_dct (numpy.ndarray): Attacked DCT coefficients (flattened array).\n",
        "        perturbed_image (numpy.ndarray): Reconstructed image from the attacked DCT (H, W, C).\n",
        "    \"\"\"\n",
        "    # Validate input shape\n",
        "    if len(x.shape) != 3:\n",
        "        raise ValueError(\"Input image must have shape (H, W, C).\")\n",
        "\n",
        "    H, W, C = x.shape\n",
        "    n_dims = H * W * C\n",
        "    perm = np.random.permutation(n_dims)  # Random permutation of indices\n",
        "\n",
        "    # Flatten the image for DCT manipulation\n",
        "    x_flat = x.flatten()\n",
        "    x_dct = dct(x_flat, norm='ortho')  # Convert to DCT domain\n",
        "\n",
        "    # Attack in the DCT domain\n",
        "    for i in range(num_iters):\n",
        "        delta = np.zeros(n_dims)\n",
        "        delta[perm[i]] = epsilon\n",
        "        x_dct += delta\n",
        "\n",
        "    # Convert back to the image domain\n",
        "    perturbed_image = idct(x_dct, norm='ortho').reshape(H, W, C)\n",
        "    #perturbed_image = (perturbed_image - np.min(perturbed_image)) / (np.max(perturbed_image) - np.min(perturbed_image))\n",
        "\n",
        "    #return x_dct, perturbed_image\n",
        "    return x_dct, perturbed_image\n",
        "\n",
        "# Example Usage\n",
        "# Assuming `input_image` is a numpy array of shape (H, W, C)\n",
        "\n",
        "# input_image = ...  # Your numpy input (e.g., TinyImageNet image)\n",
        "# attacked_dct, perturbed_image = DCT_attack(input_image, epsilon=0.2, num_iters=5000)\n",
        "# print(\"Attacked DCT Shape:\", attacked_dct.shape)  # Flattened shape: H*W*C\n",
        "# print(\"Perturbed Image Shape:\", perturbed_image.shape)  # Shape: (H, W, C)\n",
        "\n",
        "\n",
        "def preprocess_DCT_attack(image, epsilon, num_iters):\n",
        "  x = np.array(image)\n",
        "  x_dct, perturbed_x = DCT_attack(x, epsilon, num_iters)\n",
        "  perturbed_x = (perturbed_x - perturbed_x.min()) / (perturbed_x.max() - perturbed_x.min()) * 255\n",
        "  perturbed_x = perturbed_x.astype(np.uint8)\n",
        "  perturbed_image = Image.fromarray(perturbed_x)\n",
        "  return perturbed_image"
      ],
      "metadata": {
        "id": "EIuFvJRcA4IX"
      },
      "execution_count": null,
      "outputs": []
    },
    {
      "cell_type": "markdown",
      "source": [
        "# TEST"
      ],
      "metadata": {
        "id": "JFCEBDSzA_ay"
      }
    },
    {
      "cell_type": "code",
      "source": [
        "folder_path = \"/content/task2_images_resized\"\n",
        "new_path = \"/content/task2_images_resized_DCTattack\"\n",
        "\n",
        "count=0"
      ],
      "metadata": {
        "id": "4eLniw9euCMM"
      },
      "execution_count": null,
      "outputs": []
    },
    {
      "cell_type": "code",
      "source": [
        "for filename in os.listdir(folder_path):\n",
        "  count += 1\n",
        "  if(count%100 == 0):\n",
        "    print(f\"On count: {count}\")\n",
        "  file_path = os.path.join(folder_path, filename)\n",
        "  img = Image.open(file_path)\n",
        "  if(count <= 1000):\n",
        "    img = preprocess_DCT_attack(img, 4, 2000)\n",
        "  elif(count <= 2000):\n",
        "    img = preprocess_DCT_attack(img, 8, 2000)\n",
        "  elif(count <= 3000):\n",
        "    img = preprocess_DCT_attack(img, 12, 2000)\n",
        "  elif(count <= 4000):\n",
        "    img = preprocess_DCT_attack(img, 16, 2000)\n",
        "  else:\n",
        "    img = preprocess_DCT_attack(img, 20, 2000)\n",
        "  target = os.path.join(new_path, filename)\n",
        "  img.save(target)\n",
        "  #ans = pipe(img)[0]['label']\n",
        "  #if(ans == 'FAKE'):\n",
        "  #  i += 1\n",
        "\n",
        "#100*i/5000"
      ],
      "metadata": {
        "id": "pMspPbK2BIhV"
      },
      "execution_count": null,
      "outputs": []
    },
    {
      "cell_type": "code",
      "source": [
        "!zip -r /content/task2_images_resized_DCTattack.zip /content/task2_images_resized_DCTattack"
      ],
      "metadata": {
        "id": "i89BdNhSdgLn"
      },
      "execution_count": null,
      "outputs": []
    }
  ]
}