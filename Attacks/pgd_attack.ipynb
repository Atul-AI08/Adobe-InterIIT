{
 "cells": [
  {
   "cell_type": "markdown",
   "id": "c03055db",
   "metadata": {},
   "source": [
    "This notebook is based on Projected Gradient Descent (PGB) for \n",
    "epsilon = 0.03\n",
    "alpha = 0.01\n",
    "num_iterations = 10\n",
    "and hence saving the images !"
   ]
  },
  {
   "cell_type": "code",
   "execution_count": null,
   "id": "2d41e436-59bc-4768-a96e-a9e69237db72",
   "metadata": {},
   "outputs": [],
   "source": [
    "import os\n",
    "from PIL import Image\n",
    "from tqdm.notebook import tqdm\n",
    "\n",
    "import torch\n",
    "import torch.nn as nn\n",
    "import torchvision.transforms as transforms\n",
    "from transformers import ViTForImageClassification\n",
    "\n",
    "import matplotlib.pyplot as plt"
   ]
  },
  {
   "cell_type": "code",
   "execution_count": null,
   "id": "91b7e4b5-91d1-46a0-a95b-47c46f0114ad",
   "metadata": {},
   "outputs": [],
   "source": [
    "# Hyperparameters\n",
    "epsilon = 0.03\n",
    "alpha = 0.01\n",
    "num_iterations = 10"
   ]
  },
  {
   "cell_type": "code",
   "execution_count": null,
   "id": "44f029de-49c5-43f6-ba0d-9b24edd411e1",
   "metadata": {},
   "outputs": [],
   "source": [
    "input_base_path = \"/workspace/CIFAKE\"\n",
    "output_base_path = \"/workspace/CIFAKE/output\"\n",
    "os.makedirs(output_base_path, exist_ok=True)"
   ]
  },
  {
   "cell_type": "code",
   "execution_count": null,
   "id": "f5178bce-c9bf-41f5-b970-1d9f0214198e",
   "metadata": {},
   "outputs": [],
   "source": [
    "transform = transforms.Compose([\n",
    "    transforms.Resize((224, 224)),\n",
    "    transforms.ToTensor(),\n",
    "    transforms.Normalize((0.5, 0.5, 0.5), (0.5, 0.5, 0.5))\n",
    "])"
   ]
  },
  {
   "cell_type": "code",
   "execution_count": null,
   "id": "b7234f5e-91c8-47de-8b6d-60e5835341b4",
   "metadata": {},
   "outputs": [],
   "source": [
    "model_name = \"google/vit-base-patch16-224\"\n",
    "model = ViTForImageClassification.from_pretrained(model_name)\n",
    "model.eval()\n",
    "device = torch.device(\"cuda\" if torch.cuda.is_available() else \"cpu\")\n",
    "model.to(device)"
   ]
  },
  {
   "cell_type": "code",
   "execution_count": null,
   "id": "a27ff865-42ed-49b7-a3d3-cdf65a3f593e",
   "metadata": {},
   "outputs": [],
   "source": [
    "def pgd_attack(model, images, labels, epsilon, alpha, num_iter):\n",
    "    adv_images = images.clone().detach().requires_grad_(True).to(device)\n",
    "    for _ in range(num_iter):\n",
    "        outputs = model(adv_images)[\"logits\"]\n",
    "        loss = nn.CrossEntropyLoss()(outputs, labels)\n",
    "        model.zero_grad()\n",
    "        loss.backward()\n",
    "        adv_images = adv_images + alpha * adv_images.grad.sign()\n",
    "        delta = torch.clamp(adv_images - images, min=-epsilon, max=epsilon)\n",
    "        adv_images = (\n",
    "            torch.clamp(images + delta, min=0, max=1).detach_().requires_grad_(True)\n",
    "        )\n",
    "    return adv_images"
   ]
  },
  {
   "cell_type": "code",
   "execution_count": null,
   "id": "432e629f-71ea-49ac-8649-6667f71e244d",
   "metadata": {},
   "outputs": [],
   "source": [
    "def process_and_attack_images(input_folder, output_folder):\n",
    "    os.makedirs(output_folder, exist_ok=True)\n",
    "\n",
    "    for label in [\"FAKE\", \"REAL\"]:\n",
    "        label_input_path = os.path.join(input_folder, label)\n",
    "        label_output_path = os.path.join(output_folder, label)\n",
    "        os.makedirs(label_output_path, exist_ok=True)\n",
    "\n",
    "        image_files = os.listdir(label_input_path)\n",
    "        for image_name in tqdm(image_files, desc=f\"Processing {label} Images\"):\n",
    "            image_path = os.path.join(label_input_path, image_name)\n",
    "            try:\n",
    "                # Load image and apply transformations\n",
    "                image = Image.open(image_path).convert(\"RGB\")\n",
    "                image_tensor = transform(image).unsqueeze(0).to(device)\n",
    "                label_tensor = torch.tensor([0]).to(device)  # Dummy label\n",
    "\n",
    "                # Perform PGD attack\n",
    "                adv_image_tensor = pgd_attack(\n",
    "                    model, image_tensor, label_tensor, epsilon, alpha, num_iterations\n",
    "                )\n",
    "                adv_image_np = (\n",
    "                    adv_image_tensor[0].cpu().detach().numpy().transpose(1, 2, 0)\n",
    "                )\n",
    "                adv_image_np = (adv_image_np * 255).astype(\"uint8\")\n",
    "                adv_image = Image.fromarray(adv_image_np)\n",
    "\n",
    "                # Save adversarial image\n",
    "                adv_image.save(os.path.join(label_output_path, f\"adv_{image_name}\"))\n",
    "            except Exception as e:\n",
    "                print(f\"Error processing {image_name}: {e}\")"
   ]
  },
  {
   "cell_type": "code",
   "execution_count": null,
   "id": "6a2f9797-c55f-44bf-ab20-50ba5b75ba24",
   "metadata": {},
   "outputs": [],
   "source": [
    "# Load a single image\n",
    "image_path = \"test.jpg\"\n",
    "image = Image.open(image_path).convert(\"RGB\")\n",
    "image_tensor = transform(image).unsqueeze(0).to(device)\n",
    "dummy_label = torch.tensor([0]).to(device)\n",
    "\n",
    "# Generate adversarial image\n",
    "adv_image_tensor = pgd_attack(\n",
    "    model, image_tensor, dummy_label, epsilon, alpha, num_iterations\n",
    ")\n",
    "\n",
    "\n",
    "# Convert tensors back to images for visualization\n",
    "def tensor_to_image(tensor):\n",
    "    tensor = tensor.squeeze().cpu().detach()\n",
    "    tensor = (tensor * 0.5 + 0.5).clamp(0, 1)  # Unnormalize\n",
    "    return transforms.ToPILImage()(tensor)\n",
    "\n",
    "\n",
    "original_image = tensor_to_image(image_tensor)\n",
    "adversarial_image = tensor_to_image(adv_image_tensor)\n",
    "\n",
    "plt.figure(figsize=(10, 5))\n",
    "plt.subplot(1, 2, 1)\n",
    "plt.title(\"Original Image\")\n",
    "plt.imshow(original_image)\n",
    "plt.axis(\"off\")\n",
    "\n",
    "plt.subplot(1, 2, 2)\n",
    "plt.title(\"Adversarial Image\")\n",
    "plt.imshow(adversarial_image)\n",
    "plt.axis(\"off\")\n",
    "\n",
    "plt.show()\n"
   ]
  },
  {
   "cell_type": "code",
   "execution_count": null,
   "id": "d3442239-4211-4c0a-9c7a-4efe9fc092c4",
   "metadata": {},
   "outputs": [],
   "source": [
    "# Process each folder in test directory (FAKE and REAL)\n",
    "for label_folder in os.listdir(input_base_path):\n",
    "    label_path = os.path.join(input_base_path, label_folder)\n",
    "    output_label_path = os.path.join(output_base_path, label_folder)\n",
    "    os.makedirs(output_label_path, exist_ok=True)\n",
    "\n",
    "    for image_name in tqdm(os.listdir(label_path), desc=f\"Processing {label_folder}\"):\n",
    "        image_path = os.path.join(label_path, image_name)\n",
    "        image = Image.open(image_path).convert(\"RGB\")\n",
    "        image_tensor = transform(image).unsqueeze(0).to(device)\n",
    "\n",
    "        # Dummy label (can be adjusted based on your use case)\n",
    "        dummy_label = torch.tensor([0]).to(device)\n",
    "\n",
    "        # Generate adversarial image\n",
    "        adv_image_tensor = pgd_attack(\n",
    "            model, image_tensor, dummy_label, epsilon, alpha, num_iterations\n",
    "        )\n",
    "\n",
    "        # Save adversarial image\n",
    "        adv_image = adv_image_tensor.squeeze().cpu().detach()\n",
    "        adv_image = (adv_image * 0.5 + 0.5).clamp(0, 1)  # Unnormalize\n",
    "        adv_image_pil = transforms.ToPILImage()(adv_image)\n",
    "\n",
    "        adv_image_pil.save(os.path.join(output_label_path, f\"adv_{image_name}\"))\n",
    "\n",
    "print(f\"Adversarial images saved to {output_base_path}!\")"
   ]
  },
  {
   "cell_type": "code",
   "execution_count": null,
   "id": "b9065aa8-dcd1-42a2-90ed-bcdeee8ada25",
   "metadata": {},
   "outputs": [],
   "source": [
    "import shutil\n",
    "\n",
    "folder_path = \"/workspace/CIFAKE/output\"\n",
    "output_zip = \"/workspace/CIFAKE/output.zip\"\n",
    "\n",
    "# Create a zip archive\n",
    "shutil.make_archive(output_zip.replace(\".zip\", \"\"), \"zip\", folder_path)"
   ]
  }
 ],
 "metadata": {
  "kernelspec": {
   "display_name": "Python 3 (ipykernel)",
   "language": "python",
   "name": "python3"
  },
  "language_info": {
   "codemirror_mode": {
    "name": "ipython",
    "version": 3
   },
   "file_extension": ".py",
   "mimetype": "text/x-python",
   "name": "python",
   "nbconvert_exporter": "python",
   "pygments_lexer": "ipython3",
   "version": "3.11.10"
  }
 },
 "nbformat": 4,
 "nbformat_minor": 5
}
