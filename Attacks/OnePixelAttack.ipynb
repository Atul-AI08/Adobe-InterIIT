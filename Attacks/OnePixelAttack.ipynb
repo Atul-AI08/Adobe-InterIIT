{
 "cells": [
  {
   "cell_type": "code",
   "execution_count": null,
   "metadata": {},
   "outputs": [],
   "source": [
    "import numpy as np\n",
    "from PIL import Image, ImageDraw\n",
    "import matplotlib.pyplot as plt\n",
    "import random"
   ]
  },
  {
   "cell_type": "code",
   "execution_count": null,
   "metadata": {},
   "outputs": [],
   "source": [
    "# Load the image\n",
    "image_path = \"/content/cat_9187.png\"\n",
    "original_image = Image.open(image_path).convert(\"RGB\")\n",
    "\n",
    "image_array = np.array(original_image)\n",
    "\n",
    "attacked_image_array = image_array.copy()\n",
    "\n",
    "height, width, channels = image_array.shape"
   ]
  },
  {
   "cell_type": "code",
   "execution_count": null,
   "metadata": {},
   "outputs": [],
   "source": [
    "# Select a random pixel to attack\n",
    "random_x = random.randint(0, height - 1)\n",
    "random_y = random.randint(0, width - 1)\n",
    "\n",
    "attacked_image_array[random_x, random_y] = [255, 0, 0]  # Set the pixel to bright red\n",
    "\n",
    "# Highlight the attacked pixel in the attacked image\n",
    "highlighted_image = Image.fromarray(attacked_image_array)\n",
    "draw = ImageDraw.Draw(highlighted_image)\n",
    "box_size = 7\n",
    "bold_width = 5\n",
    "\n",
    "# Draw a bold rectangle around the attacked pixel\n",
    "draw.rectangle(\n",
    "    [\n",
    "        (random_y - box_size, random_x - box_size),\n",
    "        (random_y + box_size, random_x + box_size),\n",
    "    ],\n",
    "    outline=\"yellow\",\n",
    "    width=bold_width,\n",
    ")\n",
    "\n",
    "attacked_image = Image.fromarray(attacked_image_array)"
   ]
  },
  {
   "cell_type": "code",
   "execution_count": null,
   "metadata": {},
   "outputs": [],
   "source": [
    "# Display the original, attacked, and highlighted images\n",
    "plt.figure(figsize=(15, 5))\n",
    "\n",
    "# Original Image\n",
    "plt.subplot(1, 3, 1)\n",
    "plt.title(\"Original Image\")\n",
    "plt.imshow(original_image)\n",
    "plt.axis(\"off\")\n",
    "\n",
    "# Attacked Image\n",
    "plt.subplot(1, 3, 2)\n",
    "plt.title(\"Attacked Image (1-Pixel)\")\n",
    "plt.imshow(attacked_image)\n",
    "plt.axis(\"off\")\n",
    "\n",
    "# Highlighted Image\n",
    "plt.subplot(1, 3, 3)\n",
    "plt.title(\"Highlighted Attack Pixel\")\n",
    "plt.imshow(highlighted_image)\n",
    "plt.axis(\"off\")\n",
    "\n",
    "plt.tight_layout()\n",
    "plt.show()"
   ]
  }
 ],
 "metadata": {
  "kernelspec": {
   "display_name": "torch",
   "language": "python",
   "name": "python3"
  },
  "language_info": {
   "name": "python",
   "version": "3.10.15"
  }
 },
 "nbformat": 4,
 "nbformat_minor": 2
}
